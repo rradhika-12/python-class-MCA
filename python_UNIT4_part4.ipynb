{
 "cells": [
  {
   "cell_type": "code",
   "execution_count": 1,
   "id": "75bf2903-3754-4fa7-b25b-a2b1eac60a6d",
   "metadata": {},
   "outputs": [],
   "source": [
    "# UNIT 4\n",
    "# part 4"
   ]
  },
  {
   "cell_type": "code",
   "execution_count": 3,
   "id": "436c099f-7601-4d69-b2a4-a13482d33a01",
   "metadata": {},
   "outputs": [],
   "source": [
    "# Regular expression in python Using re module "
   ]
  },
  {
   "cell_type": "code",
   "execution_count": 5,
   "id": "92877c11-a070-4761-a246-2f59def48753",
   "metadata": {},
   "outputs": [
    {
     "name": "stdout",
     "output_type": "stream",
     "text": [
      "Match found: hello\n"
     ]
    }
   ],
   "source": [
    "# 1 regular expression  \n",
    "import re  # Import the re module to work with regular expressions\n",
    "\n",
    "# Define the regular expression pattern\n",
    "pattern = r\"hello\"  # The pattern we are looking for. 'r' makes it a raw string, so backslashes are treated literally.\n",
    "\n",
    "# Define the text to search within\n",
    "text = \"hello world\"  # The text where we want to search for the pattern\n",
    "\n",
    "# Use re.search() to look for the pattern in the text\n",
    "# It returns a match object if the pattern is found; otherwise, it returns None\n",
    "match = re.search(pattern, text)\n",
    "\n",
    "# Print the result\n",
    "# If a match is found, use match.group() to get the matched substring\n",
    "# If no match is found, print \"No match\"\n",
    "print(\"Match found:\", match.group() if match else \"No match\")\n"
   ]
  },
  {
   "cell_type": "code",
   "execution_count": 7,
   "id": "c73c07af-c96f-4726-8ff3-e8bb1c4af785",
   "metadata": {},
   "outputs": [
    {
     "name": "stdout",
     "output_type": "stream",
     "text": [
      "Match found: cat\n"
     ]
    }
   ],
   "source": [
    "# 2.  Simple character matches \n",
    "import re  # Import the regular expressions module\n",
    "\n",
    "# Define the regular expression pattern\n",
    "pattern = r\"cat\"  # The pattern we are looking for, which matches the substring \"cat\"\n",
    "\n",
    "# Define the text to search within\n",
    "text = \"The cat sat on the mat.\"  # The text where we want to search for the pattern\n",
    "\n",
    "# Use re.search() to look for the pattern in the text\n",
    "# It returns a match object if the pattern is found; otherwise, it returns None\n",
    "match = re.search(pattern, text)\n",
    "\n",
    "# Print the result\n",
    "# If a match is found, use match.group() to get the matched substring\n",
    "# If no match is found, print \"No match\"\n",
    "print(\"Match found:\", match.group() if match else \"No match\")\n"
   ]
  },
  {
   "cell_type": "code",
   "execution_count": 9,
   "id": "7983472a-2f3d-4226-a562-c4b98125ee26",
   "metadata": {},
   "outputs": [
    {
     "name": "stdout",
     "output_type": "stream",
     "text": [
      "Match found: cat\n"
     ]
    }
   ],
   "source": [
    "# 3. Special Characters\n",
    "import re \n",
    "\n",
    "# Define the regular expression pattern\n",
    "pattern = r\"c.t\"  # The pattern matches any substring starting with 'c', ending with 't', and having any character in between\n",
    "\n",
    "# Define the text to search within\n",
    "text = \"The cat sat.\"  # The text where we want to search for the pattern\n",
    "\n",
    "# Use re.search() to look for the pattern in the text\n",
    "# It returns a match object if the pattern is found; otherwise, it returns None\n",
    "match = re.search(pattern, text)\n",
    "\n",
    "# Print the result\n",
    "# If a match is found, use match.group() to get the matched substring\n",
    "# If no match is found, print \"No match\"\n",
    "print(\"Match found:\", match.group() if match else \"No match\")"
   ]
  },
  {
   "cell_type": "code",
   "execution_count": 11,
   "id": "e2bee4ea-56a8-4dab-9f9b-0bf27f032a3d",
   "metadata": {},
   "outputs": [
    {
     "name": "stdout",
     "output_type": "stream",
     "text": [
      "Matches found: ['ello', 'orld']\n"
     ]
    }
   ],
   "source": [
    "# 4 charcter classes \n",
    "import re  \n",
    "\n",
    "pattern = r\"[a-z]+\"  # Matches one or more consecutive lowercase letters (a-z)\n",
    "\n",
    "# Define the text to search within\n",
    "text = \"Hello World 123\"  # The text where we want to search for the pattern\n",
    "\n",
    "# Use re.findall() to find all matches of the pattern in the text\n",
    "# It returns a list of all non-overlapping matches\n",
    "matches = re.findall(pattern, text)\n",
    "\n",
    "# Print the matches found\n",
    "print(\"Matches found:\", matches)"
   ]
  },
  {
   "cell_type": "code",
   "execution_count": 13,
   "id": "7ca73c7e-b9e4-4eb6-b466-76874e558815",
   "metadata": {},
   "outputs": [
    {
     "name": "stdout",
     "output_type": "stream",
     "text": [
      "Matches found: ['123', '456', '789']\n"
     ]
    }
   ],
   "source": [
    "# 5. Quantifiers \n",
    "\n",
    "import re  \n",
    "\n",
    "pattern = r\"\\d{3}\"  # Matches exactly three consecutive digits (0-9)\n",
    "\n",
    "# Define the text to search within\n",
    "text = \"My number is 1234567890\"  # The text where we want to search for the pattern\n",
    "\n",
    "# Use re.findall() to find all matches of the pattern in the text\n",
    "# It returns a list of all non-overlapping matches\n",
    "matches = re.findall(pattern, text)\n",
    "\n",
    "# Print the matches found\n",
    "print(\"Matches found:\", matches)"
   ]
  },
  {
   "cell_type": "code",
   "execution_count": 15,
   "id": "dc20dd84-1902-47e6-b0db-b9054e319383",
   "metadata": {},
   "outputs": [
    {
     "name": "stdout",
     "output_type": "stream",
     "text": [
      "Match found: hello\n"
     ]
    }
   ],
   "source": [
    "# 6.  dot character (.)\n",
    "pattern = r\"h.llo\"\n",
    "text = \"hello\"\n",
    "match = re.search(pattern, text)\n",
    "print(\"Match found:\", match.group() if match else \"No match\")"
   ]
  },
  {
   "cell_type": "code",
   "execution_count": 17,
   "id": "8c9d905b-3fb4-4b0c-ad3c-37d9ef3ff6c5",
   "metadata": {},
   "outputs": [
    {
     "name": "stdout",
     "output_type": "stream",
     "text": [
      "Greedy match: No match\n",
      "Lazy match: No match\n"
     ]
    }
   ],
   "source": [
    "# 7.  Greedy Matches \n",
    "import re  # Import the regular expressions module\n",
    "\n",
    "# Define a greedy pattern\n",
    "pattern = r\"<.*>\"  # Matches any string starting with '<' and ending with '>', consuming as much as possible (greedy).\n",
    "\n",
    "# Define the text to search within\n",
    "text = \"content\"  # This is the input text to match against.\n",
    "\n",
    "# Use re.search() with the greedy pattern\n",
    "match = re.search(pattern, text)\n",
    "\n",
    "# Print the result of the greedy match\n",
    "print(\"Greedy match:\", match.group() if match else \"No match\")\n",
    "\n",
    "# Define a lazy pattern\n",
    "pattern_lazy = r\"<.*?>\"  # Matches any string starting with '<' and ending with '>', consuming as little as possible (lazy).\n",
    "\n",
    "# Use re.search() with the lazy pattern\n",
    "match_lazy = re.search(pattern_lazy, text)\n",
    "\n",
    "# Print the result of the lazy match\n",
    "print(\"Lazy match:\", match_lazy.group() if match_lazy else \"No match\")"
   ]
  },
  {
   "cell_type": "code",
   "execution_count": 19,
   "id": "de3807c1-0bc2-4133-b98c-26f4afcae8d7",
   "metadata": {},
   "outputs": [
    {
     "name": "stdout",
     "output_type": "stream",
     "text": [
      "Area code: 123\n",
      "Local code: 45\n"
     ]
    }
   ],
   "source": [
    "# 8.  Grouping \n",
    "import re  # Import the regular expressions module\n",
    "\n",
    "#  regular expression pattern\n",
    "pattern = r\"(\\d{3})-(\\d{2})\"  \n",
    "# (\\d{3}): Matches exactly three consecutive digits (area code), captured as the first group.\n",
    "# -: Matches the literal dash character.\n",
    "# (\\d{2}): Matches exactly two consecutive digits (local code), captured as the second group.\n",
    "\n",
    "# Define the text to search within\n",
    "text = \"Phone number: 123-45\"  # The input text containing the area and local codes.\n",
    "\n",
    "# Use re.search() to search for the pattern in the text\n",
    "# It returns a match object if the pattern is found; otherwise, it returns None\n",
    "match = re.search(pattern, text)\n",
    "\n",
    "# If a match is found, extract and print the groups\n",
    "if match:\n",
    "    print(\"Area code:\", match.group(1))  # Group 1 corresponds to the first set of parentheses (\\d{3}).\n",
    "    print(\"Local code:\", match.group(2))  # Group 2 corresponds to the second set of parentheses (\\d{2}).\n",
    "else:\n",
    "    print(\"No match found\") "
   ]
  },
  {
   "cell_type": "code",
   "execution_count": 21,
   "id": "1e2e853e-b4b5-4dee-8a32-8bb3bd1f7c8d",
   "metadata": {},
   "outputs": [
    {
     "name": "stdout",
     "output_type": "stream",
     "text": [
      "Match at start: Hello\n",
      "Match at end: world\n"
     ]
    }
   ],
   "source": [
    "#  9.   Matching at Begnning or End\n",
    "import re  # Importing  regular expressions module\n",
    "\n",
    "# Define a pattern to match \"Hello\" at the start of the string\n",
    "pattern = r\"^Hello\"  # The caret (^) asserts that \"Hello\" must occur at the start of the text\n",
    "\n",
    "# Define the text to search within\n",
    "text = \"Hello world\"  # The text to test for matches\n",
    "\n",
    "# Use re.search() to check for a match at the start\n",
    "match = re.search(pattern, text)\n",
    "\n",
    "# Print the result for the start match\n",
    "print(\"Match at start:\", match.group() if match else \"No match\")\n",
    "\n",
    "# Define a pattern to match \"world\" at the end of the string\n",
    "pattern = r\"world$\"  # The dollar sign ($) asserts that \"world\" must occur at the end of the text\n",
    "\n",
    "# Use re.search() to check for a match at the end\n",
    "match = re.search(pattern, text)\n",
    "\n",
    "# Print the result for the end match\n",
    "print(\"Match at end:\", match.group() if match else \"No match\")"
   ]
  },
  {
   "cell_type": "code",
   "execution_count": 23,
   "id": "a58f53ae-18fd-408b-a641-aefd906726ee",
   "metadata": {},
   "outputs": [
    {
     "name": "stdout",
     "output_type": "stream",
     "text": [
      "Matched text: world\n",
      "Start position: 6\n",
      "End position: 11\n"
     ]
    }
   ],
   "source": [
    "# 10 Match objects \n",
    "import re  # Import the regular expressions module\n",
    "\n",
    "# Define the pattern to match the word \"world\"\n",
    "pattern = r\"world\"  # This matches the literal string \"world\"\n",
    "\n",
    "# Define the text to search within\n",
    "text = \"Hello world\"  # The text in which we're looking for the pattern\n",
    "\n",
    "# Use re.search() to find the first occurrence of the pattern\n",
    "match = re.search(pattern, text)\n",
    "\n",
    "# If a match is found, extract the matched text and its position\n",
    "if match:\n",
    "    print(\"Matched text:\", match.group())  # Returns the matched substring (i.e., \"world\")\n",
    "    print(\"Start position:\", match.start())  # Returns the starting index of the match\n",
    "    print(\"End position:\", match.end())  # Returns the ending index (exclusive) of the match\n",
    "else:\n",
    "    print(\"No match found\")"
   ]
  },
  {
   "cell_type": "code",
   "execution_count": 25,
   "id": "753c7ac5-9ccc-4ebb-8d58-6e0354562435",
   "metadata": {},
   "outputs": [
    {
     "name": "stdout",
     "output_type": "stream",
     "text": [
      "After substitution: The dog sat on the mat.\n"
     ]
    }
   ],
   "source": [
    "# 11 substituting\n",
    "# using re.sub()\n",
    "\n",
    "import re  # Import the regular expressions module\n",
    "\n",
    "# Define the pattern to match the word \"cat\"\n",
    "pattern = r\"cat\"  # Matches the literal string \"cat\"\n",
    "\n",
    "# Define the text to search within\n",
    "text = \"The cat sat on the mat.\"  # The text where we want to replace \"cat\" with \"dog\"\n",
    "\n",
    "# Use re.sub() to substitute the matched pattern with the string \"dog\"\n",
    "result = re.sub(pattern, \"dog\", text)\n",
    "\n",
    "# Print the modified text after substitution\n",
    "print(\"After substitution:\", result)"
   ]
  },
  {
   "cell_type": "code",
   "execution_count": 29,
   "id": "ce4a37e2-9e1b-4f35-941e-ad20530f0527",
   "metadata": {},
   "outputs": [
    {
     "name": "stdout",
     "output_type": "stream",
     "text": [
      "Split result: ['Split', 'this', 'sentence', 'by', 'spaces']\n"
     ]
    }
   ],
   "source": [
    "# 12.  splitting a String \n",
    "import re  # Import the regular expressions module\n",
    "\n",
    "# Define the pattern to match one or more spaces\n",
    "pattern = r\"\\s+\"  # \\s matches any whitespace character (space, tab, newline), and '+' means \"one or more\"\n",
    "\n",
    "# Define the text to split\n",
    "text = \"Split this sentence by spaces\"  # The input string we want to split\n",
    "\n",
    "# Use re.split() to split the text by the pattern (one or more spaces)\n",
    "result = re.split(pattern, text)\n",
    "\n",
    "# Print the result after splitting\n",
    "print(\"Split result:\", result)"
   ]
  },
  {
   "cell_type": "code",
   "execution_count": 32,
   "id": "bc4045ca-605c-45ca-9c57-f64e8bc522f9",
   "metadata": {},
   "outputs": [
    {
     "name": "stdout",
     "output_type": "stream",
     "text": [
      "Matches: ['123', '456']\n"
     ]
    }
   ],
   "source": [
    "# 13 Compilling regular expression\n",
    "# Using re.compile() and findall()\n",
    "\n",
    "import re  # Import the regular expressions module\n",
    "\n",
    "# Compile the regular expression pattern to match one or more digits\n",
    "pattern = re.compile(r\"\\d+\")  # \\d matches any digit, and + means \"one or more\" digits in a row\n",
    "\n",
    "# Define the text to search within\n",
    "text = \"123 apples, 456 bananas\"  # The input string containing numbers\n",
    "\n",
    "# Using  findall() to find all occurrences of the pattern in the text\n",
    "matches = pattern.findall(text)\n",
    "\n",
    "# Print the result: the list of matched numbers\n",
    "print(\"Matches:\", matches)"
   ]
  },
  {
   "cell_type": "code",
   "execution_count": 34,
   "id": "281b665e-0084-4b0f-b404-7813b5dd3deb",
   "metadata": {},
   "outputs": [
    {
     "name": "stdout",
     "output_type": "stream",
     "text": [
      "Case-insensitive match: Hello\n"
     ]
    }
   ],
   "source": [
    "# 14 Flags \n",
    "\n",
    "import re  # Import the regular expressions module\n",
    "\n",
    "# Define the pattern to match the word \"hello\"\n",
    "pattern = r\"hello\"  # Matches the literal string \"hello\"\n",
    "\n",
    "# Define the text to search within\n",
    "text = \"Hello\"  # The text we want to search for the pattern\n",
    "\n",
    "# Use re.search() to search for the pattern with case-insensitive matching\n",
    "# re.IGNORECASE allows the pattern to match regardless of case (e.g., \"hello\" or \"Hello\")\n",
    "match = re.search(pattern, text, re.IGNORECASE)\n",
    "\n",
    "# Print the result: the matched text if found, or a message saying no match\n",
    "print(\"Case-insensitive match:\", match.group() if match else \"No match\")\n"
   ]
  }
 ],
 "metadata": {
  "kernelspec": {
   "display_name": "Python 3 (ipykernel)",
   "language": "python",
   "name": "python3"
  },
  "language_info": {
   "codemirror_mode": {
    "name": "ipython",
    "version": 3
   },
   "file_extension": ".py",
   "mimetype": "text/x-python",
   "name": "python",
   "nbconvert_exporter": "python",
   "pygments_lexer": "ipython3",
   "version": "3.12.4"
  }
 },
 "nbformat": 4,
 "nbformat_minor": 5
}
