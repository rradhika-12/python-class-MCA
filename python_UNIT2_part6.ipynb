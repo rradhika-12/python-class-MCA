{
 "cells": [
  {
   "cell_type": "code",
   "execution_count": 1,
   "id": "8727fa7a-9a49-4390-b98f-f30fedb53bab",
   "metadata": {},
   "outputs": [],
   "source": [
    "#UNIT 2"
   ]
  },
  {
   "cell_type": "code",
   "execution_count": 3,
   "id": "a17d9f98-68d8-4d55-b718-e058d2ff7683",
   "metadata": {},
   "outputs": [
    {
     "name": "stdout",
     "output_type": "stream",
     "text": [
      "9\n",
      "64\n"
     ]
    }
   ],
   "source": [
    "# 8. FUNCTIONS AS \"FIRST-CLASS CITIZENS\"\n",
    "\n",
    "def square(x):\n",
    "    return x * x\n",
    "\n",
    "#Assigning a function to a variable\n",
    "\n",
    "f = square\n",
    "print(f(3))     # square of 3\n",
    "\n",
    "#Passing a function as an argument\n",
    "\n",
    "def apply_function(func, value):\n",
    "    return func(value)\n",
    "\n",
    "result = apply_function(square, 8)           # square of 8\n",
    "print(result)  \n"
   ]
  },
  {
   "cell_type": "code",
   "execution_count": 9,
   "id": "e2eb8912-54ee-496e-bcf4-e5c0b3af576d",
   "metadata": {},
   "outputs": [
    {
     "name": "stdout",
     "output_type": "stream",
     "text": [
      "18\n",
      "27\n"
     ]
    }
   ],
   "source": [
    "# 9. PASSING FUNCTIONS TO A FUNCTION \n",
    "\n",
    "def double(x):\n",
    "    return x * 2\n",
    "\n",
    "def triple(x):\n",
    "    return x * 3\n",
    "\n",
    "def apply_operation(func, number):\n",
    "    return func(number)\n",
    "\n",
    "print(apply_operation(double, 9)) \n",
    "print(apply_operation(triple, 9))  "
   ]
  },
  {
   "cell_type": "code",
   "execution_count": 15,
   "id": "5d53a0ae-88e3-417a-be24-d81a259882f7",
   "metadata": {},
   "outputs": [
    {
     "name": "stdout",
     "output_type": "stream",
     "text": [
      "1\n",
      "2\n",
      "3\n",
      "4\n",
      "5\n",
      "name: Avni\n",
      "age: 23\n",
      "city: New York\n"
     ]
    }
   ],
   "source": [
    "# args and kwargs\n",
    "\n",
    "#args\n",
    "def print_numbers(*args):\n",
    "    \"\"\"Prints each number passed as an argument.\"\"\"\n",
    "    for number in args:\n",
    "        print(number)\n",
    "\n",
    "#Calling the function with multiple arguments\n",
    "\n",
    "print_numbers(1, 2, 3, 4, 5)\n",
    "\n",
    "#kwargs\n",
    "\n",
    "def print_key_values(**kwargs):\n",
    "    \"\"\"Prints each key-value pair passed as keyword arguments.\"\"\"\n",
    "    for key, value in kwargs.items():\n",
    "        print(f\"{key}: {value}\")\n",
    "#Calling the function with keyword arguments\n",
    "\n",
    "print_key_values(name=\"Avni\", age=23, city=\"New York\")"
   ]
  },
  {
   "cell_type": "code",
   "execution_count": 19,
   "id": "3259758b-2c00-41da-92e8-bc7b3cc6bbb3",
   "metadata": {},
   "outputs": [
    {
     "name": "stdout",
     "output_type": "stream",
     "text": [
      "9\n",
      "[1, 16, 36, 81]\n"
     ]
    }
   ],
   "source": [
    "# 9. LAMBDA FUNCTION \n",
    "\n",
    "# Lambda function to add two numbers\n",
    "add = lambda a, b: a + b\n",
    "print(add(2, 7))\n",
    "\n",
    "#Using a lambda function with map\n",
    "\n",
    "numbers = [1, 4, 6, 9]\n",
    "squared = map(lambda x: x * x, numbers)\n",
    "print(list(squared))  "
   ]
  },
  {
   "cell_type": "code",
   "execution_count": 23,
   "id": "27345318-9fdb-41eb-8cd4-3bb3c61cfc7b",
   "metadata": {},
   "outputs": [
    {
     "name": "stdout",
     "output_type": "stream",
     "text": [
      "[1, 9, 9, 16, 49]\n",
      "[4]\n"
     ]
    }
   ],
   "source": [
    "# 11. MAP AND FILTER\n",
    "\n",
    "# Using map to square each number in a list\n",
    "numbers = [1, 3, 3, 4, 7]\n",
    "squared = map(lambda x: x * x, numbers)\n",
    "print(list(squared))  \n",
    "\n",
    "#Using filter to get only even numbers from a list\n",
    "\n",
    "even_numbers = filter(lambda x: x % 2 == 0, numbers)\n",
    "print(list(even_numbers)) "
   ]
  },
  {
   "cell_type": "code",
   "execution_count": 25,
   "id": "b55c20ae-4ca9-41c1-899c-be4a8c6f1964",
   "metadata": {},
   "outputs": [
    {
     "name": "stdout",
     "output_type": "stream",
     "text": [
      "<map object at 0x000001A99636DED0>\n",
      "[1, 1, 9, 25, 64]\n"
     ]
    }
   ],
   "source": [
    "# map() IN PYTHON \n",
    "\n",
    "# Using map without converting the result\n",
    "def square(x):\n",
    "    return x * x\n",
    "\n",
    "numbers = [1, 1, 3, 5, 8]\n",
    "result = map(square, numbers)\n",
    "print(result)  # This will print a map object\n",
    "# Converting the map object to a list\n",
    "result = list(map(square, numbers))\n",
    "print(result)  \n"
   ]
  },
  {
   "cell_type": "code",
   "execution_count": 29,
   "id": "08e015e6-b7f4-4ab8-bc2e-7b56333f7163",
   "metadata": {},
   "outputs": [
    {
     "name": "stdout",
     "output_type": "stream",
     "text": [
      "add\n"
     ]
    }
   ],
   "source": [
    "# MAPPING FUNCTIONS IN ADICTIONARY\n",
    "\n",
    "def add(a, b):\n",
    "    return a + b\n",
    "def subtract(a, b):\n",
    "    return a - b\n",
    "operations = {\n",
    "    \"add\": add,\n",
    "    \"subtract\": subtract\n",
    "}\n",
    "#Selecting and executing a function from the dictionary\n",
    "operation = \"add\"\n",
    "result = operation\n",
    "print(result)"
   ]
  },
  {
   "cell_type": "code",
   "execution_count": 31,
   "id": "c62cb90b-a6fb-40bb-ae2c-4403a0b175a4",
   "metadata": {},
   "outputs": [
    {
     "name": "stdout",
     "output_type": "stream",
     "text": [
      "HEY\n"
     ]
    }
   ],
   "source": [
    "# 13. INNER FUNCTIONS\n",
    "\n",
    "def outer_function(text):\n",
    "    def inner_function():\n",
    "        return text.upper()\n",
    "    return inner_function()\n",
    "\t\n",
    "result = outer_function(\"HEY\")\n",
    "print(result)  "
   ]
  },
  {
   "cell_type": "code",
   "execution_count": 35,
   "id": "daf5686e-126c-49e2-ab18-7dfd48bb25a4",
   "metadata": {},
   "outputs": [
    {
     "name": "stdout",
     "output_type": "stream",
     "text": [
      "TO THE WORLD\n"
     ]
    }
   ],
   "source": [
    "# 14. CLOSURES\n",
    "\n",
    "def outer_function(message):\n",
    "    def inner_function():\n",
    "        print(message)\n",
    "    return inner_function\n",
    "closure = outer_function(\"TO THE WORLD\")\n",
    "closure()\n"
   ]
  },
  {
   "cell_type": "code",
   "execution_count": 39,
   "id": "b9159bc6-444d-4326-8210-6b83a58a0e33",
   "metadata": {},
   "outputs": [
    {
     "name": "stdout",
     "output_type": "stream",
     "text": [
      "1\n",
      "2\n",
      "1\n"
     ]
    }
   ],
   "source": [
    "# CLOSURES WITH STATES\n",
    "\n",
    "def counter():\n",
    "    count = 0\n",
    "    def increment():\n",
    "        nonlocal count\n",
    "        count += 1\n",
    "        return count\n",
    "    return increment\n",
    "counter1 = counter()\n",
    "print(counter1()) \n",
    "print(counter1())  \n",
    "\n",
    "counter2 = counter()\n",
    "print(counter2())  "
   ]
  }
 ],
 "metadata": {
  "kernelspec": {
   "display_name": "Python 3 (ipykernel)",
   "language": "python",
   "name": "python3"
  },
  "language_info": {
   "codemirror_mode": {
    "name": "ipython",
    "version": 3
   },
   "file_extension": ".py",
   "mimetype": "text/x-python",
   "name": "python",
   "nbconvert_exporter": "python",
   "pygments_lexer": "ipython3",
   "version": "3.12.4"
  }
 },
 "nbformat": 4,
 "nbformat_minor": 5
}
