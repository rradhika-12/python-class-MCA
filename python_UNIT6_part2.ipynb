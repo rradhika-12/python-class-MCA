{
 "cells": [
  {
   "cell_type": "code",
   "execution_count": 1,
   "id": "3fd1c0ff-bd11-4cf0-ab17-bdcbc46f9c93",
   "metadata": {},
   "outputs": [],
   "source": [
    "import pandas as pd # importing"
   ]
  },
  {
   "cell_type": "code",
   "execution_count": 3,
   "id": "611a2f9f-8dfa-4659-98a4-cf81d97ff0e1",
   "metadata": {},
   "outputs": [
    {
     "name": "stdout",
     "output_type": "stream",
     "text": [
      "0    10\n",
      "1    20\n",
      "2    30\n",
      "3    40\n",
      "dtype: int64\n"
     ]
    }
   ],
   "source": [
    "# 3 Data structure in pandas \n",
    "# a- series 1 D array similar to list or numpy array \n",
    "import pandas as pd\n",
    "\n",
    "# Create a simple series\n",
    "s = pd.Series([10, 20, 30, 40])\n",
    "print(s)"
   ]
  },
  {
   "cell_type": "code",
   "execution_count": 5,
   "id": "6c579fba-addf-4b42-a74c-55782e4c7e57",
   "metadata": {},
   "outputs": [
    {
     "name": "stdout",
     "output_type": "stream",
     "text": [
      "      Name  Age         City\n",
      "0    Alice   24     New York\n",
      "1      Bob   27  Los Angeles\n",
      "2  Charlie   22      Chicago\n"
     ]
    }
   ],
   "source": [
    "# DataFrame: A 2D table with labeled rows and columns.\n",
    "data = {\n",
    "    'Name': ['Alice', 'Bob', 'Charlie'],\n",
    "    'Age': [24, 27, 22],\n",
    "    'City': ['New York', 'Los Angeles', 'Chicago']\n",
    "}\n",
    "\n",
    "df = pd.DataFrame(data)\n",
    "print(df)"
   ]
  },
  {
   "cell_type": "code",
   "execution_count": 7,
   "id": "c2901ac3-f04c-4dd9-bf34-dbab973ada46",
   "metadata": {},
   "outputs": [
    {
     "name": "stdout",
     "output_type": "stream",
     "text": [
      "0      Alice\n",
      "1        Bob\n",
      "2    Charlie\n",
      "Name: Name, dtype: object\n",
      "      Name  Age\n",
      "0    Alice   24\n",
      "1      Bob   27\n",
      "2  Charlie   22\n"
     ]
    }
   ],
   "source": [
    "# 4 Indexing and selecting data \n",
    "# Select a single columns\n",
    "print(df['Name'])\n",
    "\n",
    "# Select multiple columns\n",
    "print(df[['Name', 'Age']])"
   ]
  },
  {
   "cell_type": "code",
   "execution_count": 9,
   "id": "ed443f0f-7635-424d-bc15-214fec98243f",
   "metadata": {},
   "outputs": [
    {
     "name": "stdout",
     "output_type": "stream",
     "text": [
      "    Name  Age         City\n",
      "0  Alice   24     New York\n",
      "1    Bob   27  Los Angeles\n",
      "Name            Bob\n",
      "Age              27\n",
      "City    Los Angeles\n",
      "Name: 1, dtype: object\n"
     ]
    }
   ],
   "source": [
    "# Selecting Rows by index \n",
    "# Select first two rows\n",
    "print(df.iloc[:2])\n",
    "\n",
    "# Select rows by label index\n",
    "print(df.loc[1])"
   ]
  },
  {
   "cell_type": "code",
   "execution_count": 11,
   "id": "77df2a5e-ff12-4155-ab6d-d00a0798df3c",
   "metadata": {},
   "outputs": [
    {
     "name": "stdout",
     "output_type": "stream",
     "text": [
      "    Name  Age         City\n",
      "0  Alice   24     New York\n",
      "1    Bob   27  Los Angeles\n"
     ]
    }
   ],
   "source": [
    "# Boolean indexing \n",
    "# select rows where age is>23\n",
    "print(df[df['Age'] > 23])"
   ]
  },
  {
   "cell_type": "code",
   "execution_count": 13,
   "id": "9dfef549-dbea-4488-8c20-f39e96364eec",
   "metadata": {},
   "outputs": [
    {
     "name": "stdout",
     "output_type": "stream",
     "text": [
      "Department\n",
      "Finance    58000.0\n",
      "HR         51000.0\n",
      "IT         61000.0\n",
      "Name: Salary, dtype: float64\n"
     ]
    }
   ],
   "source": [
    "# Group by Operators \n",
    "# Pandas`groupby()` is used to group data by a certain column and apply aggregate functions.\n",
    "data = {\n",
    "    'Department': ['HR', 'HR', 'IT', 'IT', 'Finance'],\n",
    "    'Employee': ['Alice', 'Bob', 'Charlie', 'David', 'Eve'],\n",
    "    'Salary': [50000, 52000, 60000, 62000, 58000]\n",
    "}\n",
    "df = pd.DataFrame(data)\n",
    "\n",
    "# Group by Department and calculate the mean salary\n",
    "grouped = df.groupby('Department')['Salary'].mean()\n",
    "print(grouped)"
   ]
  },
  {
   "cell_type": "code",
   "execution_count": 15,
   "id": "0952e33b-8134-45b3-b752-9efff15723e3",
   "metadata": {},
   "outputs": [
    {
     "name": "stdout",
     "output_type": "stream",
     "text": [
      "Year         2019  2020\n",
      "City                   \n",
      "Chicago       NaN   2.7\n",
      "Los Angeles   3.9   NaN\n",
      "New York      8.4   8.3\n"
     ]
    }
   ],
   "source": [
    "#   6. Reshaping Data\n",
    "#   Pivot Table\n",
    "#Pivot tables allow you to **rearrange data** based on unique values in a column.\n",
    "data = {\n",
    "    'City': ['New York', 'Los Angeles', 'New York', 'Chicago'],\n",
    "    'Year': [2019, 2019, 2020, 2020],\n",
    "    'Population': [8.4, 3.9, 8.3, 2.7]\n",
    "}\n",
    "df = pd.DataFrame(data)\n",
    "\n",
    "# Create a pivot table with 'Year' as columns\n",
    "pivot = df.pivot_table(values='Population', index='City', columns='Year')\n",
    "print(pivot)"
   ]
  },
  {
   "cell_type": "code",
   "execution_count": 17,
   "id": "a222a2fd-a836-425c-bd9f-7c60fad8aae2",
   "metadata": {},
   "outputs": [
    {
     "name": "stdout",
     "output_type": "stream",
     "text": [
      "          City    variable   value\n",
      "0     New York        Year  2019.0\n",
      "1  Los Angeles        Year  2019.0\n",
      "2     New York        Year  2020.0\n",
      "3      Chicago        Year  2020.0\n",
      "4     New York  Population     8.4\n",
      "5  Los Angeles  Population     3.9\n",
      "6     New York  Population     8.3\n",
      "7      Chicago  Population     2.7\n"
     ]
    }
   ],
   "source": [
    "#   Melt Function : Unpivot a DataFrame from wide to long format.\n",
    "# Melt the DataFrame\n",
    "melted = pd.melt(df, id_vars=['City'], value_vars=['Year', 'Population'])\n",
    "print(melted)"
   ]
  },
  {
   "cell_type": "code",
   "execution_count": 19,
   "id": "a08d8d5e-a609-4976-8298-ea8ac4d83905",
   "metadata": {},
   "outputs": [
    {
     "name": "stdout",
     "output_type": "stream",
     "text": [
      "      Name Department  Salary\n",
      "2  Charlie         IT   62000\n"
     ]
    }
   ],
   "source": [
    "#   Q1: Create a DataFrame and Filter Employees with Salary > 60000.\n",
    "import pandas as pd\n",
    "\n",
    "data = {\n",
    "    'Name': ['Alice', 'Bob', 'Charlie', 'David'],\n",
    "    'Department': ['IT', 'HR', 'IT', 'Finance'],\n",
    "    'Salary': [50000, 52000, 62000, 58000]\n",
    "}\n",
    "df = pd.DataFrame(data)\n",
    "\n",
    "# Filter employees with Salary > 60000\n",
    "high_salary = df[df['Salary'] > 60000]\n",
    "print(high_salary)"
   ]
  },
  {
   "cell_type": "code",
   "execution_count": 21,
   "id": "e540382d-6e20-46ee-bd5f-220bd0381c5a",
   "metadata": {},
   "outputs": [
    {
     "name": "stdout",
     "output_type": "stream",
     "text": [
      "Department\n",
      "Finance     58000\n",
      "HR         102000\n",
      "IT         122000\n",
      "Name: Salary, dtype: int64\n"
     ]
    }
   ],
   "source": [
    "#  Q2: Group the Following Data by Department and Find the Total Salary.\n",
    "data = {\n",
    "    'Department': ['HR', 'HR', 'IT', 'IT', 'Finance'],\n",
    "    'Employee': ['Alice', 'Bob', 'Charlie', 'David', 'Eve'],\n",
    "    'Salary': [50000, 52000, 60000, 62000, 58000]\n",
    "}\n",
    "df = pd.DataFrame(data)\n",
    "\n",
    "# Group by Department and calculate the total salary\n",
    "grouped = df.groupby('Department')['Salary'].sum()\n",
    "print(grouped)"
   ]
  },
  {
   "cell_type": "code",
   "execution_count": 23,
   "id": "d2767664-ddcb-4d33-a762-0134d24cd0e7",
   "metadata": {},
   "outputs": [
    {
     "name": "stdout",
     "output_type": "stream",
     "text": [
      "Year      2019  2020\n",
      "City                \n",
      "Chicago    150   180\n",
      "New York   200   250\n"
     ]
    }
   ],
   "source": [
    "# Q3: Reshape the Data Below Using Pivot.\n",
    "data2 = {\n",
    "    'City': ['New York', 'New York', 'Chicago', 'Chicago'],\n",
    "    'Year': [2019, 2020, 2019, 2020],\n",
    "    'Sales': [200, 250, 150, 180]\n",
    "}\n",
    "df2 = pd.DataFrame(data2)\n",
    "\n",
    "# Create a pivot table\n",
    "pivot = df2.pivot(index='City', columns='Year', values='Sales')\n",
    "print(pivot)"
   ]
  },
  {
   "cell_type": "code",
   "execution_count": 25,
   "id": "a329549f-d7ce-45b4-ad3b-f0ddccb1ccc7",
   "metadata": {},
   "outputs": [
    {
     "name": "stdout",
     "output_type": "stream",
     "text": [
      "  Department Employee  Salary\n",
      "2         IT  Charlie   60000\n",
      "3         IT    David   62000\n"
     ]
    }
   ],
   "source": [
    "#  Q4: Use Boolean Indexing to Select All Employees in the IT Department.\n",
    "# Filter employees in the IT department\n",
    "it_employees = df[df['Department'] == 'IT']\n",
    "print(it_employees)\n",
    "\n",
    "df.to_excel(\"data.xlsx\")"
   ]
  },
  {
   "cell_type": "code",
   "execution_count": 27,
   "id": "9308ae1b-a6e6-4bba-a6e4-7e67023b0c51",
   "metadata": {},
   "outputs": [
    {
     "name": "stdout",
     "output_type": "stream",
     "text": [
      "   Unnamed: 0 Department Employee  Salary\n",
      "0           0         HR    Alice   50000\n",
      "1           1         HR      Bob   52000\n",
      "2           2         IT  Charlie   60000\n",
      "3           3         IT    David   62000\n",
      "4           4    Finance      Eve   58000\n"
     ]
    }
   ],
   "source": [
    "#  dependencies\n",
    "\n",
    "# **2. Reading an Excel File**\n",
    "\n",
    "### **Reading the Entire File**\n",
    "\n",
    "import pandas as pd\n",
    "\n",
    "# Read the Excel file (use the appropriate sheet name or index)\n",
    "df = pd.read_excel('data.xlsx', sheet_name='Sheet1')  # Or sheet_name=0 for the first sheet\n",
    "print(df)\n"
   ]
  },
  {
   "cell_type": "code",
   "execution_count": 29,
   "id": "e5f9536f-6a85-41df-a620-d0cae49dce29",
   "metadata": {},
   "outputs": [
    {
     "name": "stdout",
     "output_type": "stream",
     "text": [
      "  Department  Salary\n",
      "0         HR   50000\n",
      "1         HR   52000\n",
      "2         IT   60000\n",
      "3         IT   62000\n",
      "4    Finance   58000\n"
     ]
    }
   ],
   "source": [
    "#   Reading Specific Columns\n",
    "\n",
    "# Read only the 'Name' and 'Age' columns\n",
    "df = pd.read_excel('data.xlsx', usecols=['Department', 'Salary'])\n",
    "print(df)\n"
   ]
  },
  {
   "cell_type": "code",
   "execution_count": 31,
   "id": "38a070b4-b822-41ea-acf2-c31cfb3c4eb3",
   "metadata": {},
   "outputs": [
    {
     "name": "stdout",
     "output_type": "stream",
     "text": [
      "Sheet: Sheet1\n",
      "   Unnamed: 0 Department Employee  Salary\n",
      "0           0         HR    Alice   50000\n",
      "1           1         HR      Bob   52000\n",
      "2           2         IT  Charlie   60000\n",
      "3           3         IT    David   62000\n",
      "4           4    Finance      Eve   58000\n"
     ]
    }
   ],
   "source": [
    "#  Reading Multiple Sheets\n",
    "# Load multiple sheets into a dictionary\n",
    "sheets = pd.read_excel('data.xlsx', sheet_name=None)  # None loads all sheets\n",
    "for sheet_name, sheet_data in sheets.items():\n",
    "    print(f'Sheet: {sheet_name}')\n",
    "    print(sheet_data)"
   ]
  },
  {
   "cell_type": "code",
   "execution_count": 33,
   "id": "febe2c63-07af-456d-95af-405e53bb1dc5",
   "metadata": {},
   "outputs": [
    {
     "data": {
      "text/html": [
       "<div>\n",
       "<style scoped>\n",
       "    .dataframe tbody tr th:only-of-type {\n",
       "        vertical-align: middle;\n",
       "    }\n",
       "\n",
       "    .dataframe tbody tr th {\n",
       "        vertical-align: top;\n",
       "    }\n",
       "\n",
       "    .dataframe thead th {\n",
       "        text-align: right;\n",
       "    }\n",
       "</style>\n",
       "<table border=\"1\" class=\"dataframe\">\n",
       "  <thead>\n",
       "    <tr style=\"text-align: right;\">\n",
       "      <th></th>\n",
       "      <th>Department</th>\n",
       "      <th>Salary</th>\n",
       "    </tr>\n",
       "  </thead>\n",
       "  <tbody>\n",
       "    <tr>\n",
       "      <th>0</th>\n",
       "      <td>HR</td>\n",
       "      <td>50000</td>\n",
       "    </tr>\n",
       "    <tr>\n",
       "      <th>1</th>\n",
       "      <td>HR</td>\n",
       "      <td>52000</td>\n",
       "    </tr>\n",
       "    <tr>\n",
       "      <th>2</th>\n",
       "      <td>IT</td>\n",
       "      <td>60000</td>\n",
       "    </tr>\n",
       "    <tr>\n",
       "      <th>3</th>\n",
       "      <td>IT</td>\n",
       "      <td>62000</td>\n",
       "    </tr>\n",
       "    <tr>\n",
       "      <th>4</th>\n",
       "      <td>Finance</td>\n",
       "      <td>58000</td>\n",
       "    </tr>\n",
       "  </tbody>\n",
       "</table>\n",
       "</div>"
      ],
      "text/plain": [
       "  Department  Salary\n",
       "0         HR   50000\n",
       "1         HR   52000\n",
       "2         IT   60000\n",
       "3         IT   62000\n",
       "4    Finance   58000"
      ]
     },
     "execution_count": 33,
     "metadata": {},
     "output_type": "execute_result"
    }
   ],
   "source": [
    "# **3. Modifying Excel Data**\n",
    "# **Adding a New Column**\n",
    "df"
   ]
  },
  {
   "cell_type": "code",
   "execution_count": 35,
   "id": "1264fa11-38fe-4904-99cb-a18acc8d6dc5",
   "metadata": {},
   "outputs": [
    {
     "name": "stdout",
     "output_type": "stream",
     "text": [
      "  Department  Salary  New Salary\n",
      "0         HR   50000      550000\n",
      "1         HR   52000      552000\n",
      "2         IT   60000      560000\n",
      "3         IT   62000      562000\n",
      "4    Finance   58000      558000\n"
     ]
    }
   ],
   "source": [
    "df['New Salary'] = df['Salary'] + 500000  # Example: Add 5 to the 'Age' column\n",
    "print(df)"
   ]
  },
  {
   "cell_type": "code",
   "execution_count": 37,
   "id": "987572f8-acb4-44ca-9001-651ef0603ad0",
   "metadata": {},
   "outputs": [
    {
     "name": "stdout",
     "output_type": "stream",
     "text": [
      "  Department  Salary  New Salary\n",
      "2         IT   60000      560000\n",
      "3         IT   62000      562000\n"
     ]
    }
   ],
   "source": [
    "#Filtering Data\n",
    "# Filter rows where Age > 25\n",
    "filtered_df = df[df['Salary'] >= 60000]\n",
    "print(filtered_df)"
   ]
  },
  {
   "cell_type": "code",
   "execution_count": 40,
   "id": "e4f676dd-f89c-48d8-af11-1f19827dbec7",
   "metadata": {},
   "outputs": [],
   "source": [
    "# 4. Saving Data to an Excel File\n",
    "\n",
    "#   Saving to a New Excel File\n",
    "df.to_excel('modified_data.xlsx', index=False)  # Disable the default index column"
   ]
  },
  {
   "cell_type": "code",
   "execution_count": 43,
   "id": "a0040490-4f67-41c9-8d05-35fdc357d559",
   "metadata": {},
   "outputs": [],
   "source": [
    "#   Saving to a Specific Sheet\n",
    "df.to_excel('modified_data.xlsx', sheet_name='Modified Data', index=False)"
   ]
  },
  {
   "cell_type": "code",
   "execution_count": 45,
   "id": "755f5247-0100-4050-aafc-01062c2743c8",
   "metadata": {},
   "outputs": [],
   "source": [
    "# **5. Handling Excel Files with Multiple Sheets**\n",
    "\n",
    "### **Example: Read from One Sheet, Modify, and Save to Another Sheet**\n",
    "# Read from 'Sheet1'\n",
    "df = pd.read_excel('data.xlsx', sheet_name='Sheet1')\n",
    "\n",
    "# Modify data: Add 10 to the 'Salary' column\n",
    "df['Salary'] = df['Salary'] + 20000\n",
    "\n",
    "# Save the modified data to 'Sheet3'\n",
    "with pd.ExcelWriter('data.xlsx', engine='openpyxl', mode='a') as writer:\n",
    "    df.to_excel(writer, sheet_name='Sheet3', index=False)"
   ]
  },
  {
   "cell_type": "code",
   "execution_count": 47,
   "id": "5702c837-5bd4-4682-adbf-ff9aea43ed79",
   "metadata": {},
   "outputs": [],
   "source": [
    "\n",
    "# 6. Advanced Example: Combining Multiple Excel Files**\n",
    "\n",
    "#   If you have multiple Excel files, you can merge them into one.\n",
    "import glob\n",
    "\n",
    "# Get all Excel files in the current directory\n",
    "excel_files = glob.glob('*.xlsx')\n",
    "\n",
    "# Read and combine all files into a single DataFrame\n",
    "combined_df = pd.concat([pd.read_excel(file) for file in excel_files])\n",
    "\n",
    "# Save the combined data to a new Excel file\n",
    "combined_df.to_excel('combined_data.xlsx', index=False)\n"
   ]
  }
 ],
 "metadata": {
  "kernelspec": {
   "display_name": "Python 3 (ipykernel)",
   "language": "python",
   "name": "python3"
  },
  "language_info": {
   "codemirror_mode": {
    "name": "ipython",
    "version": 3
   },
   "file_extension": ".py",
   "mimetype": "text/x-python",
   "name": "python",
   "nbconvert_exporter": "python",
   "pygments_lexer": "ipython3",
   "version": "3.12.4"
  }
 },
 "nbformat": 4,
 "nbformat_minor": 5
}
