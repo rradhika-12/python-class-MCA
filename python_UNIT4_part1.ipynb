{
 "cells": [
  {
   "cell_type": "code",
   "execution_count": 1,
   "id": "67781e63-ea4f-4177-8726-03b2b36b2ddf",
   "metadata": {},
   "outputs": [],
   "source": [
    "# UNIT 4 \n",
    "# part 1"
   ]
  },
  {
   "cell_type": "code",
   "execution_count": 3,
   "id": "3b39f792-9795-4835-864e-0e8caa76e94f",
   "metadata": {},
   "outputs": [
    {
     "name": "stdout",
     "output_type": "stream",
     "text": [
      "Buddy says woof!\n",
      "Charlie is 5 years old.\n",
      "Canis familiaris\n"
     ]
    }
   ],
   "source": [
    "#  Creating classes \n",
    "# we can create a class using keyword \"class\" and methods can be defined within it .\n",
    "class Dog:\n",
    "    # Class attribute (shared by all instances)\n",
    "    species = \"Canis familiaris\"\n",
    "    \n",
    "    # Constructor (initializer)\n",
    "    def __init__(self, name, age):\n",
    "        # Instance attributes (unique to each instance)\n",
    "        self.name = name\n",
    "        self.age = age\n",
    "    \n",
    "    # Instance method\n",
    "    def bark(self):\n",
    "        return f\"{self.name} says woof!\"\n",
    "    \n",
    "    # Another instance method\n",
    "    def get_age(self):\n",
    "        return f\"{self.name} is {self.age} years old.\"\n",
    "\n",
    "\n",
    "# Creating instances (objects) of the Dog class\n",
    "dog1 = Dog(\"Buddy\", 3)\n",
    "dog2 = Dog(\"Charlie\", 5)\n",
    "\n",
    "# Accessing attributes and methods\n",
    "print(dog1.bark())     \n",
    "print(dog2.get_age())     \n",
    "print(dog1.species)        "
   ]
  },
  {
   "cell_type": "code",
   "execution_count": 5,
   "id": "58ff5c27-a4f3-4a16-92d5-3fc9050c6986",
   "metadata": {},
   "outputs": [],
   "source": [
    "#  Instance Methods \n",
    "# These are function defined inside a class and can acess the attributes and other methods of the attributes \n",
    "#and other methods of the object using self.\n",
    "def bark(self):\n",
    "    return f\"{self.name} says woof!\"\n",
    "# instance method syntax object.method().\n",
    "    \n",
    "# 4 file organizer \n",
    "    from dog import Dog"
   ]
  },
  {
   "cell_type": "code",
   "execution_count": 35,
   "id": "e0981417-7cc6-488b-8972-cf4fb36fcdf4",
   "metadata": {},
   "outputs": [
    {
     "name": "stdout",
     "output_type": "stream",
     "text": [
      "Buddy is 3 years old.\n"
     ]
    }
   ],
   "source": [
    "# Special Methods(Dunder Methods)\n",
    "#allows object to behave in specific situations.\n",
    "\n",
    "class Dog:\n",
    "    # Python requires the constructor method to be named __init__ to initialize the object.\n",
    "    def __init__(self, name, age):  # Constructor method\n",
    "        self.name = name\n",
    "        self.age = age\n",
    "    \n",
    "    # String representation\n",
    "    def __str__(self):  # String representation method\n",
    "        return f\"{self.name} is {self.age} years old.\"\n",
    "\n",
    "# Create an instance of the Dog class\n",
    "dog = Dog(\"Buddy\", 3)\n",
    "print(dog) \n"
   ]
  },
  {
   "cell_type": "code",
   "execution_count": 23,
   "id": "b09f64db-9e57-4b6d-9d28-5c34485435d6",
   "metadata": {},
   "outputs": [
    {
     "name": "stdout",
     "output_type": "stream",
     "text": [
      "Canis familiaris\n",
      "Canis familiaris\n"
     ]
    }
   ],
   "source": [
    "#  class variables \n",
    "#class variables are shared across all the instance of a class.\n",
    "#they are defined within class but outside any instance method\n",
    "class Dog:\n",
    "    # Class variable shared by all instances\n",
    "    species = \"Canis familiaris\"\n",
    "    \n",
    "    def __init__(self, name, age):  # Fixed the typo here\n",
    "        self.name = name\n",
    "        self.age = age\n",
    "\n",
    "dog1 = Dog(\"Buddy\", 3)\n",
    "dog2 = Dog(\"Charlie\", 5)\n",
    "\n",
    "print(dog1.species)  \n",
    "print(dog2.species)  \n"
   ]
  },
  {
   "cell_type": "code",
   "execution_count": 25,
   "id": "140a9d0c-0090-48c7-93af-dd8438b07b46",
   "metadata": {},
   "outputs": [
    {
     "name": "stdout",
     "output_type": "stream",
     "text": [
      "Buddy says woof!\n",
      "Whiskers says meow!\n"
     ]
    }
   ],
   "source": [
    "#  INHERITANCE\n",
    "# it allows to create a new class based on a existing class .\n",
    "# new class(child class) inherits attributes and methods  of a base class (parent class)\n",
    "class Animal:\n",
    "    def __init__(self, name):\n",
    "        self.name = name\n",
    "    \n",
    "    def speak(self):\n",
    "        raise NotImplementedError(\"Subclass must implement abstract method\")\n",
    "\n",
    "class Dog(Animal):\n",
    "    def speak(self):\n",
    "        return f\"{self.name} says woof!\"\n",
    "\n",
    "class Cat(Animal):\n",
    "    def speak(self):\n",
    "        return f\"{self.name} says meow!\"\n",
    "dog = Dog(\"Buddy\")\n",
    "cat = Cat(\"Whiskers\")\n",
    "\n",
    "print(dog.speak())  # Output: Buddy says woof!\n",
    "print(cat.speak())  # Output: Whiskers says meow!\n",
    "\n",
    "#in above code Dog and Cat class inherits methods form above class i.e Animal\n",
    "# and override the speak method"
   ]
  },
  {
   "cell_type": "code",
   "execution_count": 31,
   "id": "0a671d60-8351-4c66-b3cc-11ffa7a571b3",
   "metadata": {},
   "outputs": [
    {
     "name": "stdout",
     "output_type": "stream",
     "text": [
      "Buddy says woof!\n",
      "Whiskers says meow!\n"
     ]
    }
   ],
   "source": [
    "#  Polymorphism\n",
    "# polymorphism allows to have same name of a method in a class but with different parameters\n",
    "def animal_speak(animal):\n",
    "    print(animal.speak())\n",
    "\n",
    "dog = Dog(\"Buddy\")\n",
    "cat = Cat(\"Whiskers\")\n",
    "\n",
    "animal_speak(dog) \n",
    "animal_speak(cat)  \n"
   ]
  },
  {
   "cell_type": "code",
   "execution_count": 29,
   "id": "9205ff72-0391-48dd-9168-90395200f2c2",
   "metadata": {},
   "outputs": [
    {
     "name": "stdout",
     "output_type": "stream",
     "text": [
      "<class '__main__.Dog'>\n",
      "True\n",
      "True\n"
     ]
    }
   ],
   "source": [
    "#  type identification \n",
    "# int this pyhton identifes the type of an object using type() or isinstance() function\n",
    "print(type(dog))  # Output: main.Dog'>\n",
    "print(isinstance(dog, Dog))  # Output: True\n",
    "print(isinstance(dog, Animal))  # Output: True\n"
   ]
  },
  {
   "cell_type": "code",
   "execution_count": 33,
   "id": "a1064856-721a-4963-8e17-231ce4cf8f2d",
   "metadata": {},
   "outputs": [
    {
     "name": "stdout",
     "output_type": "stream",
     "text": [
      "Value cannot be negative!\n"
     ]
    }
   ],
   "source": [
    "#  custom Exception class\n",
    "#  we can create custom exception by inheiting form the base Exception class\n",
    "class CustomError(Exception):\n",
    "    def __init__(self, message):\n",
    "        self.message = message\n",
    "\n",
    "#Raising the custom exception\n",
    "def check_value(x):\n",
    "    if x < 0:\n",
    "        raise CustomError(\"Value cannot be negative!\")\n",
    "\n",
    "try:\n",
    "    check_value(-1)\n",
    "except CustomError as e:\n",
    "    print(e.message)  "
   ]
  },
  {
   "cell_type": "code",
   "execution_count": null,
   "id": "453f8a61-1de4-4580-b83f-9aaa9ee92b33",
   "metadata": {},
   "outputs": [],
   "source": []
  }
 ],
 "metadata": {
  "kernelspec": {
   "display_name": "Python 3 (ipykernel)",
   "language": "python",
   "name": "python3"
  },
  "language_info": {
   "codemirror_mode": {
    "name": "ipython",
    "version": 3
   },
   "file_extension": ".py",
   "mimetype": "text/x-python",
   "name": "python",
   "nbconvert_exporter": "python",
   "pygments_lexer": "ipython3",
   "version": "3.12.4"
  }
 },
 "nbformat": 4,
 "nbformat_minor": 5
}
