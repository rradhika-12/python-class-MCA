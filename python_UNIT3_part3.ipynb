{
 "cells": [
  {
   "cell_type": "code",
   "execution_count": 1,
   "id": "c9858215-5c15-4f51-976a-73be991f96de",
   "metadata": {},
   "outputs": [],
   "source": [
    "# UNIT 3\n",
    "# FILE LOADER AND REQUEST MODULE"
   ]
  },
  {
   "cell_type": "code",
   "execution_count": 13,
   "id": "13bcaa15-c793-41df-b069-8c2368f180e3",
   "metadata": {},
   "outputs": [
    {
     "name": "stdout",
     "output_type": "stream",
     "text": [
      "Requirement already satisfied: requests in c:\\users\\radhika\\anaconda3\\lib\\site-packages (2.32.2)\n",
      "Requirement already satisfied: charset-normalizer<4,>=2 in c:\\users\\radhika\\anaconda3\\lib\\site-packages (from requests) (2.0.4)\n",
      "Requirement already satisfied: idna<4,>=2.5 in c:\\users\\radhika\\anaconda3\\lib\\site-packages (from requests) (3.7)\n",
      "Requirement already satisfied: urllib3<3,>=1.21.1 in c:\\users\\radhika\\anaconda3\\lib\\site-packages (from requests) (2.2.2)\n",
      "Requirement already satisfied: certifi>=2017.4.17 in c:\\users\\radhika\\anaconda3\\lib\\site-packages (from requests) (2024.8.30)\n",
      "Note: you may need to restart the kernel to use updated packages.\n"
     ]
    }
   ],
   "source": [
    "pip install requests\n"
   ]
  },
  {
   "cell_type": "code",
   "execution_count": 19,
   "id": "f74b945e-ff52-4009-b991-ccb157a2aab7",
   "metadata": {},
   "outputs": [
    {
     "name": "stdout",
     "output_type": "stream",
     "text": [
      "Status Code: 200\n",
      "JSON Response: {'current_user_url': 'https://api.github.com/user', 'current_user_authorizations_html_url': 'https://github.com/settings/connections/applications{/client_id}', 'authorizations_url': 'https://api.github.com/authorizations', 'code_search_url': 'https://api.github.com/search/code?q={query}{&page,per_page,sort,order}', 'commit_search_url': 'https://api.github.com/search/commits?q={query}{&page,per_page,sort,order}', 'emails_url': 'https://api.github.com/user/emails', 'emojis_url': 'https://api.github.com/emojis', 'events_url': 'https://api.github.com/events', 'feeds_url': 'https://api.github.com/feeds', 'followers_url': 'https://api.github.com/user/followers', 'following_url': 'https://api.github.com/user/following{/target}', 'gists_url': 'https://api.github.com/gists{/gist_id}', 'hub_url': 'https://api.github.com/hub', 'issue_search_url': 'https://api.github.com/search/issues?q={query}{&page,per_page,sort,order}', 'issues_url': 'https://api.github.com/issues', 'keys_url': 'https://api.github.com/user/keys', 'label_search_url': 'https://api.github.com/search/labels?q={query}&repository_id={repository_id}{&page,per_page}', 'notifications_url': 'https://api.github.com/notifications', 'organization_url': 'https://api.github.com/orgs/{org}', 'organization_repositories_url': 'https://api.github.com/orgs/{org}/repos{?type,page,per_page,sort}', 'organization_teams_url': 'https://api.github.com/orgs/{org}/teams', 'public_gists_url': 'https://api.github.com/gists/public', 'rate_limit_url': 'https://api.github.com/rate_limit', 'repository_url': 'https://api.github.com/repos/{owner}/{repo}', 'repository_search_url': 'https://api.github.com/search/repositories?q={query}{&page,per_page,sort,order}', 'current_user_repositories_url': 'https://api.github.com/user/repos{?type,page,per_page,sort}', 'starred_url': 'https://api.github.com/user/starred{/owner}{/repo}', 'starred_gists_url': 'https://api.github.com/gists/starred', 'topic_search_url': 'https://api.github.com/search/topics?q={query}{&page,per_page}', 'user_url': 'https://api.github.com/users/{user}', 'user_organizations_url': 'https://api.github.com/user/orgs', 'user_repositories_url': 'https://api.github.com/users/{user}/repos{?type,page,per_page,sort}', 'user_search_url': 'https://api.github.com/search/users?q={query}{&page,per_page,sort,order}'}\n",
      "Response Headers: {'Date': 'Mon, 18 Nov 2024 10:29:37 GMT', 'Content-Type': 'application/json; charset=utf-8', 'Cache-Control': 'public, max-age=60, s-maxage=60', 'Vary': 'Accept,Accept-Encoding, Accept, X-Requested-With', 'ETag': 'W/\"4f825cc84e1c733059d46e76e6df9db557ae5254f9625dfe8e1b09499c449438\"', 'X-GitHub-Media-Type': 'github.v3; format=json', 'x-github-api-version-selected': '2022-11-28', 'Access-Control-Expose-Headers': 'ETag, Link, Location, Retry-After, X-GitHub-OTP, X-RateLimit-Limit, X-RateLimit-Remaining, X-RateLimit-Used, X-RateLimit-Resource, X-RateLimit-Reset, X-OAuth-Scopes, X-Accepted-OAuth-Scopes, X-Poll-Interval, X-GitHub-Media-Type, X-GitHub-SSO, X-GitHub-Request-Id, Deprecation, Sunset', 'Access-Control-Allow-Origin': '*', 'Strict-Transport-Security': 'max-age=31536000; includeSubdomains; preload', 'X-Frame-Options': 'deny', 'X-Content-Type-Options': 'nosniff', 'X-XSS-Protection': '0', 'Referrer-Policy': 'origin-when-cross-origin, strict-origin-when-cross-origin', 'Content-Security-Policy': \"default-src 'none'\", 'Content-Encoding': 'gzip', 'Server': 'github.com', 'X-RateLimit-Limit': '60', 'X-RateLimit-Remaining': '58', 'X-RateLimit-Reset': '1731929347', 'X-RateLimit-Resource': 'core', 'X-RateLimit-Used': '2', 'Accept-Ranges': 'bytes', 'Content-Length': '510', 'X-GitHub-Request-Id': '609E:34F4E8:3D2EB:3FF98:673B1711'}\n"
     ]
    }
   ],
   "source": [
    "#\n",
    "\n",
    "import requests\n",
    "\n",
    "response = requests.get('https://api.github.com')\n",
    "\n",
    "Status code\n",
    "print(f\"Status Code: {response.status_code}\")\n",
    "\n",
    "#Response content (JSON data)\n",
    "print(f\"JSON Response: {response.json()}\")\n",
    "\n",
    "#Headers\n",
    "print(f\"Response Headers: {response.headers}\")"
   ]
  },
  {
   "cell_type": "code",
   "execution_count": 21,
   "id": "098911fa-da68-4b13-9d0e-94937f7f935e",
   "metadata": {},
   "outputs": [
    {
     "name": "stdout",
     "output_type": "stream",
     "text": [
      "Text Response: {\"current_user_url\":\"https://api.github.com/user\",\"current_user_authorizations_html_url\":\"https://github.com/settings/connections/applications{/client_id}\",\"authorizations_url\":\"https://api.github.com/authorizations\",\"code_search_url\":\"https://api.github.com/search/code?q={query}{&page,per_page,sort,order}\",\"commit_search_url\":\"https://api.github.com/search/commits?q={query}{&page,per_page,sort,order}\",\"emails_url\":\"https://api.github.com/user/emails\",\"emojis_url\":\"https://api.github.com/emojis\",\"events_url\":\"https://api.github.com/events\",\"feeds_url\":\"https://api.github.com/feeds\",\"followers_url\":\"https://api.github.com/user/followers\",\"following_url\":\"https://api.github.com/user/following{/target}\",\"gists_url\":\"https://api.github.com/gists{/gist_id}\",\"hub_url\":\"https://api.github.com/hub\",\"issue_search_url\":\"https://api.github.com/search/issues?q={query}{&page,per_page,sort,order}\",\"issues_url\":\"https://api.github.com/issues\",\"keys_url\":\"https://api.github.com/user/keys\",\"label_search_url\":\"https://api.github.com/search/labels?q={query}&repository_id={repository_id}{&page,per_page}\",\"notifications_url\":\"https://api.github.com/notifications\",\"organization_url\":\"https://api.github.com/orgs/{org}\",\"organization_repositories_url\":\"https://api.github.com/orgs/{org}/repos{?type,page,per_page,sort}\",\"organization_teams_url\":\"https://api.github.com/orgs/{org}/teams\",\"public_gists_url\":\"https://api.github.com/gists/public\",\"rate_limit_url\":\"https://api.github.com/rate_limit\",\"repository_url\":\"https://api.github.com/repos/{owner}/{repo}\",\"repository_search_url\":\"https://api.github.com/search/repositories?q={query}{&page,per_page,sort,order}\",\"current_user_repositories_url\":\"https://api.github.com/user/repos{?type,page,per_page,sort}\",\"starred_url\":\"https://api.github.com/user/starred{/owner}{/repo}\",\"starred_gists_url\":\"https://api.github.com/gists/starred\",\"topic_search_url\":\"https://api.github.com/search/topics?q={query}{&page,per_page}\",\"user_url\":\"https://api.github.com/users/{user}\",\"user_organizations_url\":\"https://api.github.com/user/orgs\",\"user_repositories_url\":\"https://api.github.com/users/{user}/repos{?type,page,per_page,sort}\",\"user_search_url\":\"https://api.github.com/search/users?q={query}{&page,per_page,sort,order}\"}\n"
     ]
    }
   ],
   "source": [
    "print(f\"Text Response: {response.text}\")"
   ]
  },
  {
   "cell_type": "code",
   "execution_count": 23,
   "id": "8389d391-4a8a-498f-b1b3-8099ea824162",
   "metadata": {},
   "outputs": [
    {
     "name": "stdout",
     "output_type": "stream",
     "text": [
      "URL with Parameters: https://api.github.com/search/repositories?q=requests%2Bpython&page=2\n"
     ]
    }
   ],
   "source": [
    "#HANDLING PARAMETERS IN URLs\n",
    "\n",
    "params = {'q': 'requests+python', 'page': 2}\n",
    "response = requests.get('https://api.github.com/search/repositories', params=params)\n",
    "\n",
    "print(f\"URL with Parameters: {response.url}\")  # Prints the complete URL with parameters\n"
   ]
  },
  {
   "cell_type": "code",
   "execution_count": 25,
   "id": "4a953631-3716-4735-b226-62d34f3adb7b",
   "metadata": {},
   "outputs": [
    {
     "name": "stdout",
     "output_type": "stream",
     "text": [
      "Response Text: {\n",
      "  \"args\": {}, \n",
      "  \"data\": \"\", \n",
      "  \"files\": {}, \n",
      "  \"form\": {\n",
      "    \"password\": \"testpass\", \n",
      "    \"username\": \"testuser\"\n",
      "  }, \n",
      "  \"headers\": {\n",
      "    \"Accept\": \"*/*\", \n",
      "    \"Accept-Encoding\": \"gzip, deflate, br, zstd\", \n",
      "    \"Content-Length\": \"35\", \n",
      "    \"Content-Type\": \"application/x-www-form-urlencoded\", \n",
      "    \"Host\": \"httpbin.org\", \n",
      "    \"User-Agent\": \"python-requests/2.32.2\", \n",
      "    \"X-Amzn-Trace-Id\": \"Root=1-673b1741-6107474d0256cfb71d6a789d\"\n",
      "  }, \n",
      "  \"json\": null, \n",
      "  \"origin\": \"223.228.88.234\", \n",
      "  \"url\": \"https://httpbin.org/post\"\n",
      "}\n",
      "\n"
     ]
    }
   ],
   "source": [
    "# SENDING post REQUESTS\n",
    "\n",
    "data = {'username': 'testuser', 'password': 'testpass'}\n",
    "response = requests.post('https://httpbin.org/post', data=data)\n",
    "\n",
    "print(f\"Response Text: {response.text}\")\n"
   ]
  },
  {
   "cell_type": "code",
   "execution_count": 27,
   "id": "48593536-14d2-4548-8068-7ae2981fda17",
   "metadata": {},
   "outputs": [
    {
     "name": "stdout",
     "output_type": "stream",
     "text": [
      "JSON Sent: {\"username\": \"testuser\", \"password\": \"testpass\"}\n",
      "Response JSON: {'args': {}, 'data': '{\"username\": \"testuser\", \"password\": \"testpass\"}', 'files': {}, 'form': {}, 'headers': {'Accept': '*/*', 'Accept-Encoding': 'gzip, deflate, br, zstd', 'Content-Length': '48', 'Content-Type': 'application/json', 'Host': 'httpbin.org', 'User-Agent': 'python-requests/2.32.2', 'X-Amzn-Trace-Id': 'Root=1-673b174c-43cf4d6a622e37950f6af5c9'}, 'json': {'password': 'testpass', 'username': 'testuser'}, 'origin': '223.228.88.234', 'url': 'https://httpbin.org/post'}\n"
     ]
    }
   ],
   "source": [
    "# SENDING JSON DATA IN post REQUEST\n",
    "\n",
    "import json\n",
    "\n",
    "data = {'username': 'testuser', 'password': 'testpass'}\n",
    "response = requests.post('https://httpbin.org/post', json=data)\n",
    "\n",
    "print(f\"JSON Sent: {json.dumps(data)}\")\n",
    "print(f\"Response JSON: {response.json()}\")\n"
   ]
  },
  {
   "cell_type": "code",
   "execution_count": 29,
   "id": "ed56dd8d-19c5-4b1d-9d97-a79b7b2da376",
   "metadata": {},
   "outputs": [
    {
     "name": "stdout",
     "output_type": "stream",
     "text": [
      "The request timed out\n"
     ]
    }
   ],
   "source": [
    "# EXCEPTION HANDLING TIMEOUTS\n",
    "\n",
    "try:\n",
    "    response = requests.get('https://httpbin.org/delay/3', timeout=2)\n",
    "except requests.Timeout:\n",
    "    print(\"The request timed out\")\n"
   ]
  },
  {
   "cell_type": "code",
   "execution_count": 31,
   "id": "2c737d51-7670-43c4-a8bc-26571a899efc",
   "metadata": {},
   "outputs": [
    {
     "name": "stdout",
     "output_type": "stream",
     "text": [
      "Request Headers: {'User-Agent': 'my-app/0.0.1', 'Accept-Encoding': 'gzip, deflate, br, zstd', 'Accept': '*/*', 'Connection': 'keep-alive'}\n"
     ]
    }
   ],
   "source": [
    "# CUSTOM HEADERS\n",
    "\n",
    "headers = {'User-Agent': 'my-app/0.0.1'}\n",
    "response = requests.get('https://httpbin.org/headers', headers=headers)\n",
    "\n",
    "print(f\"Request Headers: {response.request.headers}\")\n"
   ]
  },
  {
   "cell_type": "code",
   "execution_count": 33,
   "id": "1121184a-4329-43b6-b6b6-f2d9aadbbc7a",
   "metadata": {},
   "outputs": [
    {
     "name": "stdout",
     "output_type": "stream",
     "text": [
      "Response Text: {\n",
      "  \"args\": {}, \n",
      "  \"data\": \"\", \n",
      "  \"files\": {\n",
      "    \"file\": \"Hello, World!\"\n",
      "  }, \n",
      "  \"form\": {}, \n",
      "  \"headers\": {\n",
      "    \"Accept\": \"*/*\", \n",
      "    \"Accept-Encoding\": \"gzip, deflate, br, zstd\", \n",
      "    \"Content-Length\": \"160\", \n",
      "    \"Content-Type\": \"multipart/form-data; boundary=fbae89c26bb353c33ac1f9641a025022\", \n",
      "    \"Host\": \"httpbin.org\", \n",
      "    \"User-Agent\": \"python-requests/2.32.2\", \n",
      "    \"X-Amzn-Trace-Id\": \"Root=1-673b1773-7e816bcc2d9218dd277a9147\"\n",
      "  }, \n",
      "  \"json\": null, \n",
      "  \"origin\": \"223.228.88.234\", \n",
      "  \"url\": \"https://httpbin.org/post\"\n",
      "}\n",
      "\n"
     ]
    }
   ],
   "source": [
    "# FILE UPLOADS\n",
    "\n",
    "files = {'file': open('example.txt', 'rb')}\n",
    "response = requests.post('https://httpbin.org/post', files=files)\n",
    "\n",
    "print(f\"Response Text: {response.text}\")\n"
   ]
  },
  {
   "cell_type": "code",
   "execution_count": 35,
   "id": "f3250f86-13fe-4a26-92e6-02ddc752cbf6",
   "metadata": {},
   "outputs": [
    {
     "name": "stdout",
     "output_type": "stream",
     "text": [
      "Response Status: 401\n"
     ]
    }
   ],
   "source": [
    "# AUTHENTICATION \n",
    "\n",
    "from requests.auth import HTTPBasicAuth\n",
    "\n",
    "response = requests.get('https://api.github.com/user', auth=HTTPBasicAuth('username', 'password'))\n",
    "\n",
    "print(f\"Response Status: {response.status_code}\")\n"
   ]
  },
  {
   "cell_type": "code",
   "execution_count": 37,
   "id": "71dd0b56-14bb-4672-8ca7-90ce7a083285",
   "metadata": {},
   "outputs": [
    {
     "name": "stdout",
     "output_type": "stream",
     "text": [
      "{\n",
      "  \"cookies\": {\n",
      "    \"sessioncookie\": \"123456789\"\n",
      "  }\n",
      "}\n",
      "\n"
     ]
    }
   ],
   "source": [
    "# SESSIONS\n",
    "\n",
    "session = requests.Session()\n",
    "session.get('https://httpbin.org/cookies/set/sessioncookie/123456789')\n",
    "\n",
    "response = session.get('https://httpbin.org/cookies')\n",
    "print(response.text)\n"
   ]
  },
  {
   "cell_type": "code",
   "execution_count": 39,
   "id": "a9cd0096-5e00-464f-acea-27bef65a7227",
   "metadata": {},
   "outputs": [
    {
     "name": "stdout",
     "output_type": "stream",
     "text": [
      "Status Code: 302\n",
      "Redirect Location: /get\n"
     ]
    }
   ],
   "source": [
    "# HANDLING REDIRECTS\n",
    "\n",
    "response = requests.get('https://httpbin.org/redirect/1', allow_redirects=False)\n",
    "\n",
    "print(f\"Status Code: {response.status_code}\")\n",
    "print(f\"Redirect Location: {response.headers['Location']}\")\n"
   ]
  },
  {
   "cell_type": "code",
   "execution_count": 45,
   "id": "ab98d0e1-4528-40e4-a01d-6f6f96a71807",
   "metadata": {},
   "outputs": [
    {
     "name": "stdout",
     "output_type": "stream",
     "text": [
      "Repository Name: requests\n",
      "Stars: 52171\n"
     ]
    }
   ],
   "source": [
    "# MULTIPLE FEATURES : HEADERS, PARAMETERS, JSON, HANDLING ERRORS\n",
    "\n",
    "url = 'https://api.github.com/repos/psf/requests'\n",
    "params = {'state': 'open'}\n",
    "headers = {'User-Agent': 'my-app'}\n",
    "\n",
    "try:\n",
    "    response = requests.get(url, params=params, headers=headers)\n",
    "    response.raise_for_status()  # Raises an error for bad responses (4xx or 5xx)\n",
    "    \n",
    "    # Handle JSON response\n",
    "    data = response.json()\n",
    "    print(f\"Repository Name: {data['name']}\")\n",
    "    print(f\"Stars: {data['stargazers_count']}\")\n",
    "except requests.exceptions.HTTPError as http_err:\n",
    "    print(f\"HTTP error occurred: {http_err}\")\n",
    "except Exception as err:\n",
    "    print(f\"Other error occurred: {err}\")\n"
   ]
  }
 ],
 "metadata": {
  "kernelspec": {
   "display_name": "Python 3 (ipykernel)",
   "language": "python",
   "name": "python3"
  },
  "language_info": {
   "codemirror_mode": {
    "name": "ipython",
    "version": 3
   },
   "file_extension": ".py",
   "mimetype": "text/x-python",
   "name": "python",
   "nbconvert_exporter": "python",
   "pygments_lexer": "ipython3",
   "version": "3.12.4"
  }
 },
 "nbformat": 4,
 "nbformat_minor": 5
}
