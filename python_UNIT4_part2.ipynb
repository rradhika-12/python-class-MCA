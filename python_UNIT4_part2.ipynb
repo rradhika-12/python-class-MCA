{
 "cells": [
  {
   "cell_type": "code",
   "execution_count": null,
   "id": "fdbb636f-f11b-4688-bbe9-6c282f998ad7",
   "metadata": {},
   "outputs": [],
   "source": [
    "# UNIT 4 \n",
    "# part 2"
   ]
  },
  {
   "cell_type": "code",
   "execution_count": 1,
   "id": "a6cfe6ca-5a46-436f-8da7-d1d331334c0b",
   "metadata": {},
   "outputs": [
    {
     "name": "stdout",
     "output_type": "stream",
     "text": [
      "Book \"Python Programming\" added to the library.\n",
      "Book \"Python Programming\" issued to Alice.\n",
      "Book \"Python Programming\" is not available.\n"
     ]
    }
   ],
   "source": [
    "# 1 Modularity \n",
    "\n",
    "# Define a class to represent a book\n",
    "class Book:\n",
    "    def __init__(self, title, author):  # Constructor to initialize a Book object\n",
    "        self.title = title  # Title of the book\n",
    "        self.author = author  # Author of the book\n",
    "\n",
    "# Define a class to represent a library member\n",
    "class Member:\n",
    "    def __init__(self, name):  # Constructor to initialize a Member object\n",
    "        self.name = name  # Name of the member\n",
    "        self.books_issued = []  # List to keep track of books issued to the member\n",
    "\n",
    "# Define a class to represent a library\n",
    "class Library:\n",
    "    def __init__(self):  # Constructor to initialize a Library object\n",
    "        self.books = []  # List to store all books available in the library\n",
    "\n",
    "    # Method to add a book to the library\n",
    "    def add_book(self, book):\n",
    "        self.books.append(book)  # Add the book to the library's book list\n",
    "        print(f'Book \"{book.title}\" added to the library.')  # Notify that the book was added\n",
    "\n",
    "    # Method to issue a book to a library member\n",
    "    def issue_book(self, book, member):\n",
    "        # Check if the book is available in the library\n",
    "        if book in self.books:\n",
    "            member.books_issued.append(book)  # Add the book to the member's issued books\n",
    "            self.books.remove(book)  # Remove the book from the library's collection\n",
    "            print(f'Book \"{book.title}\" issued to {member.name}.')  # Notify the issuance\n",
    "        else:\n",
    "            # Notify that the book is not available\n",
    "            print(f'Book \"{book.title}\" is not available.')\n",
    "\n",
    "# Example Usage\n",
    "\n",
    "# Create a Library object\n",
    "library = Library()\n",
    "\n",
    "# Create a Book object with a title and author\n",
    "book1 = Book(\"Python Programming\", \"John Doe\")\n",
    "\n",
    "# Create a Member object with a name\n",
    "member1 = Member(\"Alice\")\n",
    "\n",
    "# Add the book to the library\n",
    "library.add_book(book1)\n",
    "\n",
    "# Issue the book to the member\n",
    "library.issue_book(book1, member1)\n",
    "\n",
    "# Attempting to issue the same book again to see how it handles unavailability\n",
    "library.issue_book(book1, member1)\n"
   ]
  },
  {
   "cell_type": "code",
   "execution_count": 3,
   "id": "b44df24e-543b-429c-b0a6-04beb6dd85ba",
   "metadata": {},
   "outputs": [
    {
     "name": "stdout",
     "output_type": "stream",
     "text": [
      "User: johndoe, Email: john@example.com\n",
      "User: janedoe, Email: jane@example.com\n"
     ]
    }
   ],
   "source": [
    "#2 Resubability \n",
    "\n",
    "# Define a class to represent a user\n",
    "\n",
    "class User:\n",
    "    def __init__(self, username, email):  # Constructor to initialize a User object\n",
    "        self.username = username  # Assign the username\n",
    "        self.email = email  # Assign the email address\n",
    "\n",
    "    # Method to get the details of the user\n",
    "    def get_details(self):\n",
    "        # Return a formatted string containing the user's details\n",
    "        return f\"User: {self.username}, Email: {self.email}\"\n",
    "\n",
    "# Reusing the User class in different parts of the program\n",
    "\n",
    "# Create the first User object\n",
    "user1 = User(\"johndoe\", \"john@example.com\")\n",
    "\n",
    "# Create the second User object\n",
    "user2 = User(\"janedoe\", \"jane@example.com\")\n",
    "\n",
    "# Print details of both users\n",
    "print(user1.get_details())  # Output: User: johndoe, Email: john@example.com\n",
    "print(user2.get_details())  # Output: User: janedoe, Email: janedoe@example.com\n",
    "\n",
    "\n"
   ]
  },
  {
   "cell_type": "code",
   "execution_count": 5,
   "id": "1cfe9b74-6b9c-4c2b-bfd9-ad2ac01aa786",
   "metadata": {},
   "outputs": [
    {
     "name": "stdout",
     "output_type": "stream",
     "text": [
      "User: admin1, Email: admin@example.com\n",
      "Admin: admin1, Permissions: read, write, delete\n"
     ]
    }
   ],
   "source": [
    "# 3. Inheritance\n",
    "# Base class to represent a general user\n",
    "class User:\n",
    "    def __init__(self, username, email):  # Constructor to initialize a User object\n",
    "        self.username = username  # Assign the username\n",
    "        self.email = email  # Assign the email address\n",
    "\n",
    "    # Method to get details of the user\n",
    "    def get_details(self):\n",
    "        # Return a formatted string containing the user's details\n",
    "        return f\"User: {self.username}, Email: {self.email}\"\n",
    "\n",
    "# Derived class to represent an admin user\n",
    "class Admin(User):\n",
    "    def __init__(self, username, email, permissions):  # Constructor for Admin\n",
    "        # Call the base class's constructor to reuse the initialization of username and email\n",
    "        super().__init__(username, email)  \n",
    "        self.permissions = permissions  # Assign the admin-specific permissions\n",
    "\n",
    "    # Method to get details specific to an admin user\n",
    "    def get_admin_details(self):\n",
    "        # Return a formatted string with admin details and permissions\n",
    "        return f\"Admin: {self.username}, Permissions: {', '.join(self.permissions)}\"\n",
    "\n",
    "# Example Usage of Inheritance\n",
    "\n",
    "# Create an Admin object with username, email, and a list of permissions\n",
    "admin1 = Admin(\"admin1\", \"admin@example.com\", [\"read\", \"write\", \"delete\"])\n",
    "\n",
    "# Use the inherited method from the User class\n",
    "print(admin1.get_details())  # Output: User: admin1, Email: admin@example.com\n",
    "\n",
    "# Use the Admin-specific method to get additional details\n",
    "print(admin1.get_admin_details())  # Output: Admin: admin1, Permissions: read, write, delete\n",
    "\n",
    "\n"
   ]
  },
  {
   "cell_type": "code",
   "execution_count": 7,
   "id": "225ca96d-2f6b-4cc3-83f9-f9191d64b1d3",
   "metadata": {},
   "outputs": [
    {
     "name": "stdout",
     "output_type": "stream",
     "text": [
      "User: admin1, Email: admin@example.com\n",
      "Admin: admin1, Permissions: read, write, delete\n"
     ]
    }
   ],
   "source": [
    "#4 abstraction\n",
    "\n",
    "# Base class to represent a general user\n",
    "class User:\n",
    "    def __init__(self, username, email):  # Constructor to initialize a User object\n",
    "        self.username = username  # Assign the username\n",
    "        self.email = email  # Assign the email address\n",
    "\n",
    "    # Method to get details of the user\n",
    "    def get_details(self):\n",
    "        # Return a formatted string containing the user's details\n",
    "        return f\"User: {self.username}, Email: {self.email}\"\n",
    "\n",
    "# Derived class to represent an admin user\n",
    "class Admin(User):\n",
    "    def __init__(self, username, email, permissions):  # Constructor for Admin\n",
    "        # Call the base class's constructor to reuse the initialization of username and email\n",
    "        super().__init__(username, email)  \n",
    "        self.permissions = permissions  # Assign the admin-specific permissions\n",
    "\n",
    "    # Method to get details specific to an admin user\n",
    "    def get_admin_details(self):\n",
    "        # Return a formatted string with admin details and permissions\n",
    "        return f\"Admin: {self.username}, Permissions: {', '.join(self.permissions)}\"\n",
    "\n",
    "# Example Usage of Inheritance\n",
    "\n",
    "# Create an Admin object with username, email, and a list of permissions\n",
    "admin1 = Admin(\"admin1\", \"admin@example.com\", [\"read\", \"write\", \"delete\"])\n",
    "\n",
    "# Use the inherited method from the User class\n",
    "print(admin1.get_details())  # Output: User: admin1, Email: admin@example.com\n",
    "\n",
    "# Use the Admin-specific method to get additional details\n",
    "print(admin1.get_admin_details())  # Output: Admin: admin1, Permissions: read, write, delete\n"
   ]
  },
  {
   "cell_type": "code",
   "execution_count": 9,
   "id": "9d0ed225-8115-4c29-ba92-d52ca52c9572",
   "metadata": {},
   "outputs": [
    {
     "name": "stdout",
     "output_type": "stream",
     "text": [
      "The area is: 78.5\n",
      "The area is: 24\n"
     ]
    }
   ],
   "source": [
    "#5  polymorphism\n",
    "# Base class to represent a generic shape\n",
    "class Shape:\n",
    "    # Method to calculate the area; it must be implemented by subclasses\n",
    "    def area(self):\n",
    "        # Raise an error if the method is not overridden in a subclass\n",
    "        raise NotImplementedError(\"Subclasses must implement this method\")\n",
    "\n",
    "# Subclass to represent a circle\n",
    "class Circle(Shape):\n",
    "    def __init__(self, radius):  # Constructor to initialize a Circle object\n",
    "        self.radius = radius  # Assign the radius of the circle\n",
    "    \n",
    "    # Override the area method to calculate the area of a circle\n",
    "    def area(self):\n",
    "        # Formula: πr², approximated here as 3.14\n",
    "        return 3.14 * self.radius * self.radius\n",
    "\n",
    "# Subclass to represent a rectangle\n",
    "class Rectangle(Shape):\n",
    "    def __init__(self, width, height):  # Constructor to initialize a Rectangle object\n",
    "        self.width = width  # Assign the width of the rectangle\n",
    "        self.height = height  # Assign the height of the rectangle\n",
    "    \n",
    "    # Override the area method to calculate the area of a rectangle\n",
    "    def area(self):\n",
    "        # Formula: width × height\n",
    "        return self.width * self.height\n",
    "\n",
    "# Function to calculate and print the area of any shape\n",
    "def print_area(shape):\n",
    "    # Polymorphic behavior: Calls the correct area method based on the object type\n",
    "    print(f\"The area is: {shape.area()}\")\n",
    "\n",
    "# Example Usage\n",
    "\n",
    "# Create a Circle object with radius 5\n",
    "circle = Circle(5)\n",
    "\n",
    "# Create a Rectangle object with width 4 and height 6\n",
    "rectangle = Rectangle(4, 6)\n",
    "\n",
    "# Calculate and print the area of the circle\n",
    "print_area(circle)      # Output: The area is: 78.5\n",
    "\n",
    "# Calculate and print the area of the rectangle\n",
    "print_area(rectangle)   # Output: The area is: 24\n",
    "\n"
   ]
  },
  {
   "cell_type": "code",
   "execution_count": 11,
   "id": "0be10be1-6620-4542-82a2-7afdf6434119",
   "metadata": {},
   "outputs": [
    {
     "name": "stdout",
     "output_type": "stream",
     "text": [
      "I'm public!\n",
      "This is a public method.\n"
     ]
    }
   ],
   "source": [
    "# public property and methods \n",
    "\n",
    "class MyClass:\n",
    "    def __init__(self):  # Constructor method to initialize an object\n",
    "        # Public property: accessible from outside the class\n",
    "        self.public_property = \"I'm public!\"\n",
    "    \n",
    "    # Public method: can be called from outside the class\n",
    "    def public_method(self):\n",
    "        # Return a string indicating this is a public method\n",
    "        return \"This is a public method.\"\n",
    "\n",
    "# Create an object of the class\n",
    "obj = MyClass()\n",
    "\n",
    "# Access the public property directly\n",
    "print(obj.public_property)  # Output: I'm public!\n",
    "\n",
    "# Call the public method\n",
    "print(obj.public_method())  # Output: This is a public method.\n",
    "\n"
   ]
  },
  {
   "cell_type": "code",
   "execution_count": 13,
   "id": "34d22995-56ae-430f-bb2e-33a53eb2cf5d",
   "metadata": {},
   "outputs": [
    {
     "name": "stdout",
     "output_type": "stream",
     "text": [
      "I'm private!\n"
     ]
    }
   ],
   "source": [
    "# private property and method\n",
    "# Define a class\n",
    "class MyClass:\n",
    "    def __init__(self):  # Constructor method to initialize the object\n",
    "        # Private property: Prefixed with __ to make it private\n",
    "        self.__private_property = \"I'm private!\"\n",
    "    \n",
    "    # Private method: Prefixed with __ to make it private\n",
    "    def __private_method(self):\n",
    "        # Return a string indicating this is a private method\n",
    "        return \"This is a private method.\"\n",
    "    \n",
    "    # Public method to access the private property\n",
    "    def access_private(self):\n",
    "        # Return the value of the private property\n",
    "        return self.__private_property\n",
    "\n",
    "# Create an object of the class\n",
    "obj = MyClass()\n",
    "\n",
    "# Attempt to access the private property directly (will raise an error)\n",
    "# print(obj.__private_property)  # Uncommenting this will raise AttributeError\n",
    "\n",
    "# Access the private property using a public method\n",
    "print(obj.access_private())  # Output: I'm private!"
   ]
  },
  {
   "cell_type": "code",
   "execution_count": 15,
   "id": "7a8f5f93-2c90-4a30-a2b7-58a96c6bbbb3",
   "metadata": {},
   "outputs": [
    {
     "name": "stdout",
     "output_type": "stream",
     "text": [
      "This is a static method.\n",
      "This is a static method.\n"
     ]
    }
   ],
   "source": [
    "# static method \n",
    "\n",
    "class MyClass:\n",
    "    @staticmethod\n",
    "    def static_method():\n",
    "        # Static method: Does not depend on instance or class attributes\n",
    "        return \"This is a static method.\"\n",
    "\n",
    "# Call the static method directly on the class\n",
    "print(MyClass.static_method())  # Output: This is a static method.\n",
    "\n",
    "# Create an instance of the class\n",
    "obj = MyClass()\n",
    "\n",
    "# Call the static method on an instance (works but not instance-dependent)\n",
    "print(obj.static_method()) \n"
   ]
  },
  {
   "cell_type": "code",
   "execution_count": 19,
   "id": "a268cd34-5048-42a7-85cb-a6bfa0a92e89",
   "metadata": {},
   "outputs": [
    {
     "name": "stdout",
     "output_type": "stream",
     "text": [
      "I'm a class property.\n"
     ]
    }
   ],
   "source": [
    "# class method \n",
    "\n",
    "class MyClass:\n",
    "    # Class property: Shared among all instances of the class\n",
    "    class_property = \"I'm a class property.\"\n",
    "\n",
    "    @classmethod\n",
    "    def class_method(cls):  # cls refers to the class itself\n",
    "        # Access the class property using cls\n",
    "        return cls.class_property\n",
    "\n",
    "# Call the class method directly on the class\n",
    "print(MyClass.class_method())\n"
   ]
  },
  {
   "cell_type": "code",
   "execution_count": 21,
   "id": "738545cf-46ea-4f6b-b869-cba79b08d478",
   "metadata": {},
   "outputs": [
    {
     "name": "stdout",
     "output_type": "stream",
     "text": [
      "10\n"
     ]
    }
   ],
   "source": [
    "# instance attribute \n",
    "\n",
    "class MyClass:\n",
    "    def __init__(self, value):  # Constructor to initialize the object\n",
    "        # Instance property: unique to each instance of the class\n",
    "        self.value = value  # Set the value passed as an argument to the instance property\n",
    "\n",
    "# Create an instance of the class with the value 10\n",
    "obj = MyClass(10)\n",
    "\n",
    "# Access the instance property\n",
    "print(obj.value)  # Output: 10\n"
   ]
  },
  {
   "cell_type": "code",
   "execution_count": 23,
   "id": "0aa3a6d9-0db5-4341-ac7a-59452c901617",
   "metadata": {},
   "outputs": [
    {
     "name": "stdout",
     "output_type": "stream",
     "text": [
      "MyClass(value=10)\n"
     ]
    }
   ],
   "source": [
    "# repr() function\n",
    "class MyClass:\n",
    "    \n",
    "    # The __init__ method is the constructor of the class, which is called when a new instance of the class is created.\n",
    "    # It initializes the instance's attributes.\n",
    "    def __init__(self, value):\n",
    "        # 'self' refers to the instance of the class, and 'value' is the argument passed when creating the object.\n",
    "        self.value = value  \n",
    "\n",
    "    # The __repr__ method is used to define how the object is represented as a string.\n",
    "    # This is what will be returned when we call repr() or print() the object.\n",
    "    def __repr__(self):\n",
    "        # Return a string that represents the object in a readable way\n",
    "        # We are using an f-string to format the output with the instance's 'value'\n",
    "        return f\"MyClass(value={self.value})\"\n",
    "\n",
    "obj = MyClass(10)\n",
    "\n",
    "# Use the repr() function to get the string representation of the object\n",
    "# This will invoke the __repr__ method and output the result\n",
    "print(repr(obj))  \n"
   ]
  },
  {
   "cell_type": "code",
   "execution_count": 25,
   "id": "adf74664-8bcb-48d3-a2cf-9fa0d166bbf5",
   "metadata": {},
   "outputs": [
    {
     "name": "stdout",
     "output_type": "stream",
     "text": [
      "Value: 10\n"
     ]
    }
   ],
   "source": [
    "#  str method \n",
    "class MyClass:\n",
    "    \n",
    "    # The __init__ method is the constructor of the class.\n",
    "    def __init__(self, value):\n",
    "        self.value = value\n",
    "\n",
    "    # The __str__ method defines how the object is represented as a string when you print it.\n",
    "    def __str__(self):\n",
    "        # Return a string that represents the object with the value\n",
    "        return f\"Value: {self.value}\"\n",
    "\n",
    "# Create an instance (object) of MyClass with the value 10\n",
    "obj = MyClass(10)\n",
    "\n",
    "# Print the object, which automatically calls the __str__ method\n",
    "print(obj)  \n"
   ]
  },
  {
   "cell_type": "code",
   "execution_count": null,
   "id": "20e5794c-eb1e-4074-9922-423d491d5c86",
   "metadata": {},
   "outputs": [],
   "source": []
  }
 ],
 "metadata": {
  "kernelspec": {
   "display_name": "Python 3 (ipykernel)",
   "language": "python",
   "name": "python3"
  },
  "language_info": {
   "codemirror_mode": {
    "name": "ipython",
    "version": 3
   },
   "file_extension": ".py",
   "mimetype": "text/x-python",
   "name": "python",
   "nbconvert_exporter": "python",
   "pygments_lexer": "ipython3",
   "version": "3.12.4"
  }
 },
 "nbformat": 4,
 "nbformat_minor": 5
}
