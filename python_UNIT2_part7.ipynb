{
 "cells": [
  {
   "cell_type": "code",
   "execution_count": 1,
   "id": "36fc82f5-f747-4f7b-ad0f-36a61a255f43",
   "metadata": {},
   "outputs": [],
   "source": [
    "# UNIT 2 \n",
    "# WRAPPER FUNCTION"
   ]
  },
  {
   "cell_type": "code",
   "execution_count": 13,
   "id": "d6807854-c3fe-4c29-868a-4126df8070a6",
   "metadata": {},
   "outputs": [
    {
     "name": "stdout",
     "output_type": "stream",
     "text": [
      "Result: 180499990500000\n",
      "Execution Time without Wrapper: 1.4550220966339111 seconds\n"
     ]
    }
   ],
   "source": [
    "# TIMING FUNCTION WITHOUT A WRAPPER\n",
    "\n",
    "import time\n",
    "\n",
    "#Simple function to simulate work\n",
    "\n",
    "def do_something(n):\n",
    "    total = 0\n",
    "    for i in range(n):\n",
    "        total += i\n",
    "    return total\n",
    "\n",
    "#Timing the function execution\n",
    "\n",
    "start_time = time.time()\n",
    "result = do_something(19000000)\n",
    "end_time = time.time()\n",
    "\n",
    "print(f\"Result: {result}\")\n",
    "print(f\"Execution Time without Wrapper: {end_time - start_time} seconds\")\n"
   ]
  },
  {
   "cell_type": "code",
   "execution_count": 30,
   "id": "1b7b57b3-17b2-4764-8347-074bef0351cd",
   "metadata": {},
   "outputs": [
    {
     "name": "stdout",
     "output_type": "stream",
     "text": [
      "Execution Time with Wrapper: 0.1101832389831543 seconds\n",
      "Result: 499999500000\n"
     ]
    }
   ],
   "source": [
    "# TIMING A FUNCTION WITH A WRAPPER FUNCTION\n",
    "\n",
    "import time\n",
    "\n",
    "#Wrapper function to time another function\n",
    "\n",
    "def timing_wrapper(func, *args, **kwargs):\n",
    "    start_time = time.time()\n",
    "    result = func(*args, **kwargs)\n",
    "    end_time = time.time()\n",
    "    print(f\"Execution Time with Wrapper: {end_time - start_time} seconds\")\n",
    "    return result\n",
    "\n",
    "#Calling do_something using the wrapper\n",
    "\n",
    "timed_result = timing_wrapper(do_something, 1000000)\n",
    "print(f\"Result: {timed_result}\")"
   ]
  },
  {
   "cell_type": "code",
   "execution_count": 32,
   "id": "1e2c9530-216c-4cf5-b5c1-93514c7977c7",
   "metadata": {},
   "outputs": [
    {
     "name": "stdout",
     "output_type": "stream",
     "text": [
      "1\n",
      "2\n",
      "3\n",
      "4\n"
     ]
    }
   ],
   "source": [
    "# BREAKDOWN OF WRAPPER FUNCTION  (*ARGS)\n",
    "\n",
    "def print_args(*args):\n",
    "    for arg in args:\n",
    "        print(arg)\n",
    "\n",
    "print_args(1, 2, 3, 4) "
   ]
  },
  {
   "cell_type": "code",
   "execution_count": 34,
   "id": "4148e544-2498-437d-bbaa-70fd8e83071a",
   "metadata": {},
   "outputs": [
    {
     "name": "stdout",
     "output_type": "stream",
     "text": [
      "name = Sorav\n",
      "age = 20\n"
     ]
    }
   ],
   "source": [
    "# BREAKDOWN OF WRAPPER FUNCTION  (*KWARGS)\n",
    "\n",
    "def print_kwargs(**kwargs):\n",
    "    for key, value in kwargs.items():\n",
    "        print(f\"{key} = {value}\")\n",
    "\n",
    "print_kwargs(name=\"Sorav\", age=20) "
   ]
  },
  {
   "cell_type": "code",
   "execution_count": 36,
   "id": "3a1b3aa2-4d88-4789-90b5-d33fa4786c3a",
   "metadata": {},
   "outputs": [
    {
     "name": "stdout",
     "output_type": "stream",
     "text": [
      "\n",
      " n = 100 Time to execute is 0.0 microseconds\n",
      "\n",
      "\n",
      " n = 400 Time to execute is 0.0 microseconds\n",
      "\n",
      "\n",
      " n = 5000 Time to execute is 3165.75 microseconds\n",
      "\n",
      "\n",
      " n = 6000 Time to execute is 1268.25 microseconds\n",
      "\n"
     ]
    }
   ],
   "source": [
    "#CHALLENGE 1  :  MEASURING EXECUTION TIME\n",
    "\n",
    "import time\n",
    "\n",
    "#Function to simulate work\n",
    "\n",
    "def count(n):\n",
    "    for i in range(0, n):\n",
    "        a = i * 10  # Multiply numbers\n",
    "\n",
    "#Wrapper function to time the execution\n",
    "\n",
    "def wrapper(func, n):\n",
    "    start_time = time.time() * 1000000  # Start time in microseconds\n",
    "    func(n)  # Call the function to time\n",
    "    end_time = time.time() * 1000000  # End time\n",
    "    print(f\"\\n n = {n} Time to execute is {end_time - start_time} microseconds\\n\")\n",
    "\n",
    "#Test the wrapper with various values of n\n",
    "\n",
    "ns = [100, 400, 5000, 6000]\n",
    "for n in ns:\n",
    "    wrapper(count, n)"
   ]
  },
  {
   "cell_type": "code",
   "execution_count": 68,
   "id": "cb9b07e5-ee0f-4e4e-9434-38959830c17f",
   "metadata": {},
   "outputs": [
    {
     "name": "stdout",
     "output_type": "stream",
     "text": [
      "\n",
      " n = 10000 Time to execute is 0.0 microseconds\n",
      "\n"
     ]
    }
   ],
   "source": [
    "# CHALLENGE 2  : USING DECORATORS TO SIMPLIFY THE CODE\n",
    "\n",
    "import time\n",
    "\n",
    "#Define the decorator\n",
    "\n",
    "def wrapper(func):\n",
    "    def wrapped(*args, **kwargs):\n",
    "        start_time = time.time() * 1000000  # Start time\n",
    "        func(*args, **kwargs)  # Call the original function\n",
    "        end_time = time.time() * 1000000  # End time\n",
    "        print(f\"\\n n = {args[0]} Time to execute is {end_time - start_time} microseconds\\n\")\n",
    "    return wrapped\n",
    "\n",
    "#Apply the decorator to the 'count' function\n",
    "\n",
    "@wrapper\n",
    "def count(n):\n",
    "    for i in range(0, n):\n",
    "        a = i * 10  # Simulate work\n",
    "\n",
    "#Call the decorated function\n",
    "\n",
    "n = 10000\n",
    "count(n)\n",
    "\n",
    "#Apply the decorator to another function\n"
   ]
  },
  {
   "cell_type": "code",
   "execution_count": 70,
   "id": "1dda0700-a224-4c09-a74f-0b997de9efe4",
   "metadata": {},
   "outputs": [
    {
     "name": "stdout",
     "output_type": "stream",
     "text": [
      "n = 10000 Time to execute is 0.0 microseconds\n",
      "n = None Time to execute is 52580.25 microseconds\n"
     ]
    }
   ],
   "source": [
    "# WITHOUT WRAPPER\n",
    "\n",
    "import time\n",
    "\n",
    "#Step 1: Define the wrapper function\n",
    "\n",
    "def wrapper(func):\n",
    "    def wrapped(*args, **kwargs):\n",
    "        start_time = time.time() * 1000000  # Start time in microseconds\n",
    "        func(*args, **kwargs)  # Call the original function\n",
    "        end_time = time.time() * 1000000  # End time\n",
    "        print(f\"n = {args[0] if args else 'None'} Time to execute is {end_time - start_time} microseconds\")\n",
    "    return wrapped  # Return the modified function\n",
    "\n",
    "#Step 2: Define the original function\n",
    "\n",
    "def count(n):\n",
    "    for i in range(0, n):\n",
    "        a = i * 10  # Simulate some work\n",
    "\n",
    "#Step 3: Manually wrap and call the function\n",
    "\n",
    "wrapped_count = wrapper(count)  # Manually wrap the function\n",
    "n = 10000\n",
    "wrapped_count(n)  # Call the wrapped function\n",
    "\n",
    "#Step 4: Define another function and apply the same wrapping logic\n",
    "\n",
    "def random_task():\n",
    "    for i in range(0, 1000000):\n",
    "        pass  # Simulate some work\n",
    "\n",
    "wrapped_random_task = wrapper(random_task)  # Wrap the new function\n",
    "wrapped_random_task()  # Call the wrapped version\n"
   ]
  },
  {
   "cell_type": "code",
   "execution_count": 72,
   "id": "913bb624-7d20-4d64-977e-82c442f02e17",
   "metadata": {},
   "outputs": [
    {
     "name": "stdout",
     "output_type": "stream",
     "text": [
      "n = 10000 Time to execute is 0.0 microseconds\n",
      "n = None Time to execute is 31250.5 microseconds\n"
     ]
    }
   ],
   "source": [
    "#  USING WRAPPER\n",
    "\n",
    "\n",
    "import time\n",
    "\n",
    "#Define the decorator\n",
    "\n",
    "\n",
    "\n",
    "def wrapper(func):\n",
    "    def wrapped(*args, **kwargs):\n",
    "        start_time = time.time() * 1000000  # Start time in microseconds\n",
    "        func(*args, **kwargs)  # Call the original function\n",
    "        end_time = time.time() * 1000000  # End time\n",
    "        print(f\"n = {args[0] if args else 'None'} Time to execute is {end_time - start_time} microseconds\")\n",
    "    return wrapped  # Return the modified function\n",
    "\n",
    "#Apply the decorator to the count function\n",
    "\n",
    "@wrapper\n",
    "def count(n):\n",
    "    for i in range(0, n):\n",
    "        a = i * 10  # Simulate some work\n",
    "\n",
    "#Call the decorated function\n",
    "\n",
    "n = 10000\n",
    "count(n)  # Automatically timed due to the decorator\n",
    "\n",
    "#Apply the decorator to another function\n",
    "\n",
    "@wrapper\n",
    "def random_task():\n",
    "    for i in range(0, 1000000):\n",
    "        pass  # Simulate some work\n",
    "\n",
    "#Call the decorated function\n",
    "\n",
    "random_task()  # Automatically timed due to the decorator"
   ]
  },
  {
   "cell_type": "code",
   "execution_count": null,
   "id": "12f1e265-1e52-4481-9571-590514055b24",
   "metadata": {},
   "outputs": [],
   "source": []
  }
 ],
 "metadata": {
  "kernelspec": {
   "display_name": "Python 3 (ipykernel)",
   "language": "python",
   "name": "python3"
  },
  "language_info": {
   "codemirror_mode": {
    "name": "ipython",
    "version": 3
   },
   "file_extension": ".py",
   "mimetype": "text/x-python",
   "name": "python",
   "nbconvert_exporter": "python",
   "pygments_lexer": "ipython3",
   "version": "3.12.4"
  }
 },
 "nbformat": 4,
 "nbformat_minor": 5
}
