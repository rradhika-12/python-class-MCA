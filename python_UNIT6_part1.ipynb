{
 "cells": [
  {
   "cell_type": "code",
   "execution_count": 1,
   "id": "cb03729c-bf04-473d-bfd9-555ebc0c89fa",
   "metadata": {},
   "outputs": [
    {
     "name": "stdout",
     "output_type": "stream",
     "text": [
      "Current Working Directory: C:\\Users\\Radhika\n"
     ]
    }
   ],
   "source": [
    "# os module in Python is a standard library module that provides a way of interacting with the operating system. \n",
    "# It enables you to perform tasks such as file and directory management, environment variable handling, process management, and more.\n",
    "\n",
    "# 1. **Get the Current Working Directory**\n",
    "# program to print the current working directory using the `os` module.\n",
    "import os\n",
    "\n",
    "#Get the current working directory\n",
    "cwd = os.getcwd()\n",
    "print(f\"Current Working Directory: {cwd}\")\n",
    "\n",
    "#`os.getcwd()` returns the path of the current working directory.\n",
    "# This function is useful to know where your Python script is being executed.\n",
    "\n"
   ]
  },
  {
   "cell_type": "code",
   "execution_count": 3,
   "id": "5d5667b1-649b-4a7c-98aa-1dca66106324",
   "metadata": {},
   "outputs": [
    {
     "name": "stdout",
     "output_type": "stream",
     "text": [
      "Changed Directory: C:\\Users\\Radhika\n"
     ]
    }
   ],
   "source": [
    "#  2. Change the Current Working Directory\n",
    "# program that changes the working directory to another location and confirms the change.\n",
    "\n",
    "import os\n",
    "\n",
    "#Change directory to user's home directory\n",
    "\n",
    "os.chdir(os.path.expanduser('~'))\n",
    "\n",
    "#Verify the change\n",
    "print(f\"Changed Directory: {os.getcwd()}\")\n",
    "\n",
    "#os.chdir(path)` changes the working directory to the given `path`.\n",
    "#`os.path.expanduser('~')` returns the path to the user’s home directory.\n",
    "\n",
    "\n"
   ]
  },
  {
   "cell_type": "code",
   "execution_count": 5,
   "id": "083d125c-9103-4135-9608-a105a152e86a",
   "metadata": {},
   "outputs": [
    {
     "name": "stdout",
     "output_type": "stream",
     "text": [
      "Directory 'new_folder' created\n"
     ]
    }
   ],
   "source": [
    "# 3.  Create a New Directory\n",
    "# program that creates a directory named `new_folder` if it doesn't exist.\n",
    "import os\n",
    "\n",
    "#  Check if the directory exists, if not, create it\n",
    "if not os.path.exists('new_folder'): #  os.path.exists(path)` checks if a path exists, which prevents errors when trying to create an existing directory.\n",
    "    os.mkdir('new_folder')  #  os.mkdir(path)` creates a directory with the specified path.\n",
    "    print(\"Directory 'new_folder' created\")\n",
    "else:\n",
    "    print(\"Directory already exists\")"
   ]
  },
  {
   "cell_type": "code",
   "execution_count": 7,
   "id": "04d1219f-e84f-4fca-b756-e49e70810620",
   "metadata": {},
   "outputs": [
    {
     "name": "stdout",
     "output_type": "stream",
     "text": [
      "Items in current directory: ['.anaconda', '.android', '.bash_history', '.cache', '.conda', '.condarc', '.continuum', '.dotnet', '.eclipse', '.emulator_console_auth_token', '.gitconfig', '.gradle', '.idlerc', '.ipynb_checkpoints', '.ipython', '.jdks', '.jupyter', '.keras', '.matplotlib', '.p2', '.quokka', '.spyder-py3', '.templateengine', '.virtual_documents', '.vscode', '.wallaby', 'ABC.ipynb', 'anaconda3', 'AndroidStudioProjects', 'AppData', 'Application Data', 'assignment1_python.ipynb', 'assignment2.ipynb', 'calculator.ipynb', 'Chat_Bot.ipynb', 'Contacts', 'Cookies', 'data.pickle', 'data_list.pickle', 'Desktop', 'Documents', 'Downloads', 'eclipse', 'example.txt', 'Favorites', 'file.pdf', 'graph.ipynb', 'IdeaProjects', 'Jedi', 'Links', 'Local Settings', 'Music', 'My Documents', 'mydata.bak', 'mydata.dat', 'mydata.dir', 'NetHood', 'New folder', 'new_folder', 'ntuser.dat', 'ntuser.dat.log1', 'ntuser.dat.log2', 'ntuser.dat{02839a83-8460-11ef-a496-f854f6829b31}.TM.blf', 'ntuser.dat{02839a83-8460-11ef-a496-f854f6829b31}.TMContainer00000000000000000001.regtrans-ms', 'ntuser.dat{02839a83-8460-11ef-a496-f854f6829b31}.TMContainer00000000000000000002.regtrans-ms', 'NTUSER.DAT{3b3b509f-2f29-11ef-a46e-f854f6829b31}.TM.blf', 'NTUSER.DAT{3b3b509f-2f29-11ef-a46e-f854f6829b31}.TMContainer00000000000000000001.regtrans-ms', 'NTUSER.DAT{3b3b509f-2f29-11ef-a46e-f854f6829b31}.TMContainer00000000000000000002.regtrans-ms', 'ntuser.ini', 'OneDrive', 'person.pickle', 'Pictures', 'PrintHood', 'python_UNIT1_part1.ipynb', 'python_UNIT1_part2.ipynb', 'python_UNIT1_part3.ipynb', 'python_UNIT1_part4.ipynb', 'python_UNIT2_part1.ipynb', 'python_UNIT2_part2.ipynb', 'python_UNIT2_part3.ipynb', 'python_UNIT2_part4.ipynb', 'python_UNIT2_part5.ipynb', 'python_UNIT2_part6.ipynb', 'python_UNIT2_part7.ipynb', 'python_UNIT2_part8.ipynb', 'python_UNIT3_part1.ipynb', 'python_UNIT3_part2.ipynb', 'python_UNIT3_part3.ipynb', 'python_UNIT3_part4.ipynb', 'python_UNIT4_part1.ipynb', 'python_UNIT4_part2.ipynb', 'python_UNIT4_part3.ipynb', 'python_UNIT4_part4.ipynb', 'Recent', 'Saved Games', 'Searches', 'SendTo', 'source', 'Start Menu', 'Templates', 'Untitled.ipynb', 'Untitled1.ipynb', 'Untitled10.ipynb', 'Untitled11.ipynb', 'Untitled12.ipynb', 'Untitled13.ipynb', 'Untitled14.ipynb', 'Untitled15.ipynb', 'Untitled16.ipynb', 'Untitled17.ipynb', 'Untitled18.ipynb', 'Untitled19.ipynb', 'Untitled2.ipynb', 'Untitled20.ipynb', 'Untitled21.ipynb', 'Untitled22.ipynb', 'Untitled23.ipynb', 'Untitled24.ipynb', 'Untitled25.ipynb', 'Untitled26.ipynb', 'Untitled27.ipynb', 'Untitled28.ipynb', 'Untitled29.ipynb', 'Untitled3.ipynb', 'Untitled30.ipynb', 'Untitled4.ipynb', 'Untitled5.ipynb', 'Untitled6.ipynb', 'Untitled7.ipynb', 'Untitled8.ipynb', 'Untitled9.ipynb', 'Videos', 'VMware Workstation Pro.lnk', 'wildlife_conservation_app']\n"
     ]
    }
   ],
   "source": [
    "### 4. **List Files in a Directory**\n",
    "#    program to list all files and directories in the current directory.\n",
    "\n",
    "import os\n",
    "\n",
    "# List files and directories\n",
    "items = os.listdir()\n",
    "print(\"Items in current directory:\", items)\n",
    "#   os.listdir(path='.')` returns a list of files and directories in the given directory. If no path is provided, it defaults to the current directory.\n",
    "\n"
   ]
  },
  {
   "cell_type": "code",
   "execution_count": 9,
   "id": "9aa4004c-f329-43f8-8f37-41549fb0b389",
   "metadata": {},
   "outputs": [
    {
     "name": "stdout",
     "output_type": "stream",
     "text": [
      "Directory renamed to 'renamed_folder'\n"
     ]
    }
   ],
   "source": [
    "# 5. Rename a File or Directory\n",
    "#program that renames `new_folder` to `renamed_folder`.\n",
    "\n",
    "import os\n",
    "\n",
    "# Rename directory\n",
    "if os.path.exists('new_folder'):\n",
    "    os.rename('new_folder', 'renamed_folder')\n",
    "    print(\"Directory renamed to 'renamed_folder'\")\n",
    "else:\n",
    "    print(\"Directory 'new_folder' does not exist\")\n",
    "\n",
    "    # os.rename(src, dst)` renames the file or directory from `src` to `dst`."
   ]
  },
  {
   "cell_type": "code",
   "execution_count": 11,
   "id": "44f25241-aba8-4df6-8527-971374029bf8",
   "metadata": {},
   "outputs": [
    {
     "name": "stdout",
     "output_type": "stream",
     "text": [
      "Directory 'renamed_folder' removed\n"
     ]
    }
   ],
   "source": [
    "# 6. **Delete a Directory**\n",
    "# program to delete the `renamed_folder`.\n",
    "\n",
    "import os\n",
    "\n",
    "# Remove the directory if it exists\n",
    "if os.path.exists('renamed_folder'):\n",
    "    os.rmdir('renamed_folder')\n",
    "    print(\"Directory 'renamed_folder' removed\")\n",
    "else:\n",
    "    print(\"Directory does not exist\")\n",
    "\n",
    "#  os.rmdir(path)` removes an empty directory."
   ]
  },
  {
   "cell_type": "code",
   "execution_count": 13,
   "id": "12028522-122f-4436-888a-132cb73be997",
   "metadata": {},
   "outputs": [
    {
     "name": "stdout",
     "output_type": "stream",
     "text": [
      "Operating System: nt\n",
      "Process ID: 17440\n"
     ]
    }
   ],
   "source": [
    "# 7. **Get Information About the Operating System**\n",
    "# program to print the name of the operating system and the current process ID.\n",
    "\n",
    "import os\n",
    "\n",
    "# Print OS name and process ID\n",
    "print(f\"Operating System: {os.name}\")\n",
    "# os.name` returns the name of the OS ('posix', 'nt', or 'java').\n",
    "print(f\"Process ID: {os.getpid()}\")\n",
    "#os.getpid()` returns the current process ID."
   ]
  },
  {
   "cell_type": "code",
   "execution_count": 15,
   "id": "5bf82f6a-f783-42ec-aa5d-6922c5d0dea4",
   "metadata": {},
   "outputs": [
    {
     "name": "stdout",
     "output_type": "stream",
     "text": [
      "Environment Variables: environ({'ALLUSERSPROFILE': 'C:\\\\ProgramData', 'APPDATA': 'C:\\\\Users\\\\Radhika\\\\AppData\\\\Roaming', 'COMMONPROGRAMFILES': 'C:\\\\Program Files\\\\Common Files', 'COMMONPROGRAMFILES(X86)': 'C:\\\\Program Files (x86)\\\\Common Files', 'COMMONPROGRAMW6432': 'C:\\\\Program Files\\\\Common Files', 'COMPUTERNAME': 'DESKTOP-FGDRIMN', 'COMSPEC': 'C:\\\\WINDOWS\\\\system32\\\\cmd.exe', 'CONDA_DEFAULT_ENV': 'base', 'CONDA_EXE': 'C:\\\\Users\\\\Radhika\\\\anaconda3\\\\Scripts\\\\conda.exe', 'CONDA_PREFIX': 'C:\\\\Users\\\\Radhika\\\\anaconda3', 'CONDA_PROMPT_MODIFIER': '(base) ', 'CONDA_PYTHON_EXE': 'C:\\\\Users\\\\Radhika\\\\anaconda3\\\\python.exe', 'CONDA_ROOT': 'C:\\\\Users\\\\Radhika\\\\anaconda3', 'CONDA_SHLVL': '1', 'DRIVERDATA': 'C:\\\\Windows\\\\System32\\\\Drivers\\\\DriverData', 'EFC_13872': '1', 'HOMEDRIVE': 'C:', 'HOMEPATH': '\\\\Users\\\\Radhika', 'INTELLIJ IDEA COMMUNITY EDITION': 'C:\\\\Program Files\\\\JetBrains\\\\IntelliJ IDEA Community Edition 2024.2.4\\\\bin;', 'IPY_INTERRUPT_EVENT': '4880', 'JPY_INTERRUPT_EVENT': '4880', 'JPY_PARENT_PID': '4716', 'JPY_SESSION_NAME': 'C:\\\\Users\\\\Radhika\\\\Untitled30.ipynb', 'LOCALAPPDATA': 'C:\\\\Users\\\\Radhika\\\\AppData\\\\Local', 'LOGONSERVER': '\\\\\\\\DESKTOP-FGDRIMN', 'NUMBER_OF_PROCESSORS': '16', 'ONEDRIVE': 'C:\\\\Users\\\\Radhika\\\\OneDrive', 'ONEDRIVECONSUMER': 'C:\\\\Users\\\\Radhika\\\\OneDrive', 'OS': 'Windows_NT', 'PATH': 'C:\\\\Users\\\\Radhika\\\\anaconda3;C:\\\\Users\\\\Radhika\\\\anaconda3\\\\Library\\\\mingw-w64\\\\bin;C:\\\\Users\\\\Radhika\\\\anaconda3\\\\Library\\\\usr\\\\bin;C:\\\\Users\\\\Radhika\\\\anaconda3\\\\Library\\\\bin;C:\\\\Users\\\\Radhika\\\\anaconda3\\\\Scripts;C:\\\\Users\\\\Radhika\\\\anaconda3\\\\bin;C:\\\\Users\\\\Radhika\\\\anaconda3\\\\condabin;C:\\\\Users\\\\Radhika\\\\anaconda3;C:\\\\Users\\\\Radhika\\\\anaconda3\\\\Library\\\\mingw-w64\\\\bin;C:\\\\Users\\\\Radhika\\\\anaconda3\\\\Library\\\\usr\\\\bin;C:\\\\Users\\\\Radhika\\\\anaconda3\\\\Library\\\\bin;C:\\\\Users\\\\Radhika\\\\anaconda3\\\\Scripts;C:\\\\Program Files\\\\Common Files\\\\Oracle\\\\Java\\\\javapath;C:\\\\Program Files (x86)\\\\Common Files\\\\Oracle\\\\Java\\\\java8path;C:\\\\Program Files (x86)\\\\Common Files\\\\Oracle\\\\Java\\\\javapath;C:\\\\Program Files (x86)\\\\VMware\\\\VMware Workstation\\\\bin;C:\\\\Program Files\\\\Python312\\\\Scripts;C:\\\\Program Files\\\\Python312;C:\\\\WINDOWS\\\\system32;C:\\\\WINDOWS;C:\\\\WINDOWS\\\\System32\\\\Wbem;C:\\\\WINDOWS\\\\System32\\\\WindowsPowerShell\\\\v1.0;C:\\\\WINDOWS\\\\System32\\\\OpenSSH;C:\\\\Program Files\\\\Git\\\\cmd;C:\\\\Program Files\\\\Microsoft SQL Server\\\\150\\\\Tools\\\\Binn;C:\\\\Program Files\\\\Microsoft SQL Server\\\\Client SDK\\\\ODBC\\\\170\\\\Tools\\\\Binn;C:\\\\Program Files\\\\dotnet;C:\\\\Users\\\\Radhika\\\\AppData\\\\Local\\\\Microsoft\\\\WindowsApps;C:\\\\Users\\\\Radhika\\\\AppData\\\\Local\\\\Programs\\\\Microsoft VS Code\\\\bin;C:\\\\Users\\\\Radhika\\\\.dotnet\\\\tools;C:\\\\flutter\\\\bin;.;C:\\\\Program Files\\\\JetBrains\\\\IntelliJ IDEA Community Edition 2024.2.4\\\\bin;.', 'PATHEXT': '.COM;.EXE;.BAT;.CMD;.VBS;.VBE;.JS;.JSE;.WSF;.WSH;.MSC;.PY;.PYW', 'PROCESSOR_ARCHITECTURE': 'AMD64', 'PROCESSOR_IDENTIFIER': 'AMD64 Family 25 Model 116 Stepping 1, AuthenticAMD', 'PROCESSOR_LEVEL': '25', 'PROCESSOR_REVISION': '7401', 'PROGRAMDATA': 'C:\\\\ProgramData', 'PROGRAMFILES': 'C:\\\\Program Files', 'PROGRAMFILES(X86)': 'C:\\\\Program Files (x86)', 'PROGRAMW6432': 'C:\\\\Program Files', 'PROMPT': '(base) $P$G', 'PSMODULEPATH': 'C:\\\\Program Files\\\\WindowsPowerShell\\\\Modules;C:\\\\WINDOWS\\\\system32\\\\WindowsPowerShell\\\\v1.0\\\\Modules', 'PUBLIC': 'C:\\\\Users\\\\Public', 'PYDEVD_USE_FRAME_EVAL': 'NO', 'SESSIONNAME': 'Console', 'SSL_CERT_FILE': 'C:\\\\Users\\\\Radhika\\\\anaconda3\\\\Library\\\\ssl\\\\cacert.pem', 'SYSTEMDRIVE': 'C:', 'SYSTEMROOT': 'C:\\\\WINDOWS', 'TEMP': 'C:\\\\Users\\\\Radhika\\\\AppData\\\\Local\\\\Temp', 'TMP': 'C:\\\\Users\\\\Radhika\\\\AppData\\\\Local\\\\Temp', 'USERDOMAIN': 'DESKTOP-FGDRIMN', 'USERDOMAIN_ROAMINGPROFILE': 'DESKTOP-FGDRIMN', 'USERNAME': 'Radhika', 'USERPROFILE': 'C:\\\\Users\\\\Radhika', 'WINDIR': 'C:\\\\WINDOWS', '__CONDA_OPENSLL_CERT_FILE_SET': '\"1\"', 'TERM': 'xterm-color', 'CLICOLOR': '1', 'FORCE_COLOR': '1', 'CLICOLOR_FORCE': '1', 'PAGER': 'cat', 'GIT_PAGER': 'cat', 'MPLBACKEND': 'module://matplotlib_inline.backend_inline'})\n",
      "PATH: C:\\Users\\Radhika\\anaconda3;C:\\Users\\Radhika\\anaconda3\\Library\\mingw-w64\\bin;C:\\Users\\Radhika\\anaconda3\\Library\\usr\\bin;C:\\Users\\Radhika\\anaconda3\\Library\\bin;C:\\Users\\Radhika\\anaconda3\\Scripts;C:\\Users\\Radhika\\anaconda3\\bin;C:\\Users\\Radhika\\anaconda3\\condabin;C:\\Users\\Radhika\\anaconda3;C:\\Users\\Radhika\\anaconda3\\Library\\mingw-w64\\bin;C:\\Users\\Radhika\\anaconda3\\Library\\usr\\bin;C:\\Users\\Radhika\\anaconda3\\Library\\bin;C:\\Users\\Radhika\\anaconda3\\Scripts;C:\\Program Files\\Common Files\\Oracle\\Java\\javapath;C:\\Program Files (x86)\\Common Files\\Oracle\\Java\\java8path;C:\\Program Files (x86)\\Common Files\\Oracle\\Java\\javapath;C:\\Program Files (x86)\\VMware\\VMware Workstation\\bin;C:\\Program Files\\Python312\\Scripts;C:\\Program Files\\Python312;C:\\WINDOWS\\system32;C:\\WINDOWS;C:\\WINDOWS\\System32\\Wbem;C:\\WINDOWS\\System32\\WindowsPowerShell\\v1.0;C:\\WINDOWS\\System32\\OpenSSH;C:\\Program Files\\Git\\cmd;C:\\Program Files\\Microsoft SQL Server\\150\\Tools\\Binn;C:\\Program Files\\Microsoft SQL Server\\Client SDK\\ODBC\\170\\Tools\\Binn;C:\\Program Files\\dotnet;C:\\Users\\Radhika\\AppData\\Local\\Microsoft\\WindowsApps;C:\\Users\\Radhika\\AppData\\Local\\Programs\\Microsoft VS Code\\bin;C:\\Users\\Radhika\\.dotnet\\tools;C:\\flutter\\bin;.;C:\\Program Files\\JetBrains\\IntelliJ IDEA Community Edition 2024.2.4\\bin;.\n"
     ]
    }
   ],
   "source": [
    "# 8. **Working with Environment Variables**\n",
    "# program to print all environment variables and access the `PATH` variable.\n",
    "\n",
    "import os\n",
    "\n",
    "# Print all environment variables\n",
    "env_vars = os.environ   #  os.environ returns a dictionary of environment variables.\n",
    "print(\"Environment Variables:\", env_vars)\n",
    "\n",
    "# Access the PATH variable\n",
    "path_var = os.getenv('PATH')\n",
    "print(f\"PATH: {path_var}\")\n",
    "# os.getenv(varname)` retrieves the value of the environment variable `varname`."
   ]
  },
  {
   "cell_type": "code",
   "execution_count": 17,
   "id": "7205384d-8689-4849-bd46-ba943e861d3d",
   "metadata": {},
   "outputs": [
    {
     "name": "stdout",
     "output_type": "stream",
     "text": [
      "Running on Windows\n"
     ]
    }
   ],
   "source": [
    "# 9. **Check OS Type (Windows vs Others)**\n",
    "# program to check if the OS is Windows.\n",
    "\n",
    "\n",
    "import os\n",
    "\n",
    "# Check if OS is Windows\n",
    "if os.name == 'nt':\n",
    "    print(\"Running on Windows\")\n",
    "else:\n",
    "    print(\"Not running on Windows\")\n"
   ]
  },
  {
   "cell_type": "code",
   "execution_count": 19,
   "id": "3c076cbd-8f56-40f2-b86a-b94cf5250206",
   "metadata": {},
   "outputs": [
    {
     "data": {
      "text/plain": [
       "0"
      ]
     },
     "execution_count": 19,
     "metadata": {},
     "output_type": "execute_result"
    }
   ],
   "source": [
    "# 10. **Execute System Commands**\n",
    "# program to execute a system command to list files in the directory.\n",
    "\n",
    "import os\n",
    "\n",
    "# Execute system command\n",
    "os.system('dir' if os.name == 'nt' else 'ls')\n",
    "#os.system(command)` runs a shell command from within a Python script.\n",
    "# The command is chosen based on the operating system: `'dir'` for Windows and `'ls'` for Unix-like systems."
   ]
  }
 ],
 "metadata": {
  "kernelspec": {
   "display_name": "Python 3 (ipykernel)",
   "language": "python",
   "name": "python3"
  },
  "language_info": {
   "codemirror_mode": {
    "name": "ipython",
    "version": 3
   },
   "file_extension": ".py",
   "mimetype": "text/x-python",
   "name": "python",
   "nbconvert_exporter": "python",
   "pygments_lexer": "ipython3",
   "version": "3.12.4"
  }
 },
 "nbformat": 4,
 "nbformat_minor": 5
}
